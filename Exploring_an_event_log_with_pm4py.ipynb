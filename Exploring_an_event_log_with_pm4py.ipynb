{
  "nbformat": 4,
  "nbformat_minor": 0,
  "metadata": {
    "colab": {
      "provenance": [],
      "include_colab_link": true
    },
    "kernelspec": {
      "name": "python3",
      "display_name": "Python 3"
    },
    "language_info": {
      "name": "python"
    }
  },
  "cells": [
    {
      "cell_type": "markdown",
      "metadata": {
        "id": "view-in-github",
        "colab_type": "text"
      },
      "source": [
        "<a href=\"https://colab.research.google.com/github/ka-means/Process-Mining-/blob/main/Exploring_an_event_log_with_pm4py.ipynb\" target=\"_parent\"><img src=\"https://colab.research.google.com/assets/colab-badge.svg\" alt=\"Open In Colab\"/></a>"
      ]
    },
    {
      "cell_type": "markdown",
      "source": [
        "<p><img src=\"https://web-uc-prod.s3.amazonaws.com/img/logo-uc-chile.svg\" alt=\"logoUC\" width=\"40%\" align=\"right\" hspace=\"10px\" vspace=\"0px\"></p>\n",
        "\n",
        "**Autores:**\n",
        "* Luciano Hidalgo (lhidalgo1@uc.cl),\n",
        "* Ignacio Velásquez (iavelasquez@uc.cl)\n",
        "\n",
        "*Versión Original:*\n",
        "* Victor Gálvez (vagalvez@uc.cl)\n"
      ],
      "metadata": {
        "id": "0_XD2tEnM2aS"
      }
    },
    {
      "cell_type": "markdown",
      "source": [
        "# **EXPLORANDO UN EVENT LOG CON PM4PY**"
      ],
      "metadata": {
        "id": "agpSB7UAODtn"
      }
    },
    {
      "cell_type": "markdown",
      "source": [
        "Para correr este notebook se utilizan dos archivos correspondientes a un mismo log de eventos de Reparación de Vehículos:\n",
        "\n",
        "* Log de eventos en formato XES: <AGREGAR LINK>\n",
        "* Log de eventos en formato CSV: <AGREGAR LINK>\n",
        "\n",
        "Al correr el notebook de manera local, estos archivos deben ser descargados y ubicados en la misma carpeta del notebook. Sin embargo, si nos encontramos trabajando en Google Colab, la siguiente celda permite cargar los archivos directamente a la memoria de la sesión actual de Colab."
      ],
      "metadata": {
        "id": "LLUMwmRZP0wW"
      }
    },
    {
      "cell_type": "code",
      "execution_count": null,
      "metadata": {
        "id": "It5EYBVxMzTY"
      },
      "outputs": [],
      "source": [
        "from IPython.display import clear_output\n",
        "\n",
        "\n",
        "if 'google.colab' in str(get_ipython()):\n",
        "  # Log de eventos en formato XES\n",
        "  !gdown --id 12jaCdN3bF8kx2Sq1q86WlWLy5LrDFCeh\n",
        "\n",
        "  # Log de eventos en formato CSV\n",
        "  !gdown --id 12fURr7Z835K5v0Pbzz08j0KM8DHO0gVQ\n",
        "\n",
        "clear_output()\n",
        "print(\"Logs 'Reparacion de Vehiculos.xes' y 'Reparacion Vehiculos.csv' cargados.\")"
      ]
    },
    {
      "cell_type": "markdown",
      "source": [
        "## 1. Instalación y Documentación"
      ],
      "metadata": {
        "id": "sP9AfNVpQdhN"
      }
    },
    {
      "cell_type": "markdown",
      "source": [
        "### PM4Py"
      ],
      "metadata": {
        "id": "9U25VHEQUXfl"
      }
    },
    {
      "cell_type": "markdown",
      "source": [
        "Para instalar el módulo se utiliza el comando:\n",
        "\n",
        "    pip install pm4py"
      ],
      "metadata": {
        "id": "Z0c66OeqUPMC"
      }
    },
    {
      "cell_type": "code",
      "source": [
        "!pip install pm4py\n",
        "\n",
        "clear_output()\n",
        "print(\"PM4Py instalado.\")"
      ],
      "metadata": {
        "id": "iy8ErbpQU4tm"
      },
      "execution_count": null,
      "outputs": []
    },
    {
      "cell_type": "markdown",
      "source": [
        "### Documentación"
      ],
      "metadata": {
        "id": "hsMiD5K4U7MG"
      }
    },
    {
      "cell_type": "markdown",
      "source": [
        "En caso de requerir más información para la instalación de PM4Py, se puede acceder al siguiente enlace: https://pm4py.fit.fraunhofer.de/static/assets/api/2.7.8/install.html\n",
        "\n",
        "La documentación oficial del módulo puede ser encontrada en: https://pm4py.fit.fraunhofer.de/static/assets/api/2.7.8/index.html\n",
        "\n",
        "El repositorio GitHub del módulo es: https://github.com/pm4py/pm4py-core"
      ],
      "metadata": {
        "id": "ZenGmI2fVBNz"
      }
    },
    {
      "cell_type": "markdown",
      "source": [
        "## 2. Lectura del Log de Eventos"
      ],
      "metadata": {
        "id": "2iEzQ8laWNms"
      }
    },
    {
      "cell_type": "markdown",
      "source": [
        "PM4Py puede leer logs de eventos en formato XES, u obtenerlos desde Dataframes generados por la librería Pandas (para leer logs de eventos en formato CSV):"
      ],
      "metadata": {
        "id": "zghUDXlfWTHu"
      }
    },
    {
      "cell_type": "markdown",
      "source": [
        "### Leer XES"
      ],
      "metadata": {
        "id": "JZsv8NASY_Kx"
      }
    },
    {
      "cell_type": "code",
      "source": [
        "import pm4py\n",
        "\n",
        "log_xes = pm4py.read_xes('reparacion_vehiculos.xes')"
      ],
      "metadata": {
        "id": "CyFccIUVY-sm"
      },
      "execution_count": null,
      "outputs": []
    },
    {
      "cell_type": "markdown",
      "source": [
        "Los logs de eventos en formato XES dividen las actividades en 'Start' y 'Complete' para representar el inicio y fin de cada una."
      ],
      "metadata": {
        "id": "8Hvlwq5RqHL2"
      }
    },
    {
      "cell_type": "code",
      "source": [
        "log_xes.head()"
      ],
      "metadata": {
        "id": "S8QWcLwqi0Yf"
      },
      "execution_count": null,
      "outputs": []
    },
    {
      "cell_type": "markdown",
      "source": [
        "### Leer CSV"
      ],
      "metadata": {
        "id": "CZJG4P8JZici"
      }
    },
    {
      "cell_type": "code",
      "source": [
        "import pandas as pd\n",
        "\n",
        "log_csv = pd.read_csv('reparacion_vehiculos.csv', sep = ';')\n",
        "\n",
        "log_csv = pm4py.format_dataframe(log_csv,\n",
        "                                case_id='ID Caso',\n",
        "                                activity_key='Actividad',\n",
        "                                timestamp_key='Fin',\n",
        "                                timest_format  = '%Y-%m-%d %H:%M:%S')"
      ],
      "metadata": {
        "id": "d-IL_dB7hmab"
      },
      "execution_count": null,
      "outputs": []
    },
    {
      "cell_type": "code",
      "source": [
        "log_csv.head()"
      ],
      "metadata": {
        "id": "sAI5NccgiBEU"
      },
      "execution_count": null,
      "outputs": []
    },
    {
      "cell_type": "markdown",
      "source": [
        "# 3. Exploración del *event log*"
      ],
      "metadata": {
        "id": "xXa2Jb4Rbt6x"
      }
    },
    {
      "cell_type": "markdown",
      "source": [
        "En esta sección se dará respuesta a algunas de las preguntas frecuentes al momento de analizar un log de eventos."
      ],
      "metadata": {
        "id": "FxblN-6oYYvX"
      }
    },
    {
      "cell_type": "markdown",
      "source": [
        "### ¿Cuántas ejecuciones del proceso (casos) contiene el log de eventos?"
      ],
      "metadata": {
        "id": "WoxKqxUIYqbk"
      }
    },
    {
      "cell_type": "markdown",
      "source": [
        "Para contestar la pregunta, se puede consultar la cantidad de valores únicos que contiene la columna que contiene el ID de caso:\n",
        "\n",
        "```python\n",
        "len(set(log_de_eventos['case:concept:name']))\n",
        "```\n",
        "\n",
        "Esto transforma toda la columna CASE ID del log de eventos en un conjunto, lo que elimina las entradas duplicadas."
      ],
      "metadata": {
        "id": "OIgMDy_YY0Tc"
      }
    },
    {
      "cell_type": "code",
      "source": [
        "print(\"Cantidad de casos en el log de eventos: \" + str(len(set(log_csv['case:concept:name']))))"
      ],
      "metadata": {
        "id": "5G-kXUuAZFSt"
      },
      "execution_count": null,
      "outputs": []
    },
    {
      "cell_type": "markdown",
      "source": [
        "### ¿Cuáles son las actividades que se realizan más y menos a menudo?"
      ],
      "metadata": {
        "id": "NJ0HEocaZfyD"
      }
    },
    {
      "cell_type": "markdown",
      "source": [
        "Para contestar la pregunta, se puede obtener un diccionario incluyendo la frecuencia de todas las actividades a través de las funciones de PM4Py:\n",
        "\n",
        "\n",
        "```python\n",
        "pm4py.stats.get_event_attribute_values(log_de_eventos, 'concept:name')\n",
        "```  \n"
      ],
      "metadata": {
        "id": "TysimFQVZ95A"
      }
    },
    {
      "cell_type": "code",
      "source": [
        "actividades = pm4py.stats.get_event_attribute_values(log_csv, 'concept:name')\n",
        "\n",
        "actividades"
      ],
      "metadata": {
        "id": "QyG9JH74chu_"
      },
      "execution_count": null,
      "outputs": []
    },
    {
      "cell_type": "markdown",
      "source": [
        "### ¿Cuáles son los ejecutores que participan realizando más y menos actividades?"
      ],
      "metadata": {
        "id": "DZH-OAaefuZY"
      }
    },
    {
      "cell_type": "markdown",
      "source": [
        "Para contestar la pregunta, se pueden utilizar nuevamente las funciones de PM4Py, pero esta vez consultando por la columna 'Ejecutor':\n",
        "\n",
        "```python\n",
        "pm4py.stats.get_event_attribute_values(log_de_eventos, 'Ejecutor')\n",
        "```\n",
        "\n",
        "A continuación se provee una función que hace uso de lo anterior para retornar un Dataframe de Pandas con los ejecutores ordenados de mayor a menor participación.\n"
      ],
      "metadata": {
        "id": "p1oHpPP2f4nj"
      }
    },
    {
      "cell_type": "code",
      "source": [
        "ejecutores = pm4py.stats.get_event_attribute_values(log_csv, 'Ejecutor')\n",
        "ejecutores"
      ],
      "metadata": {
        "id": "gvvOKrpjc8W6"
      },
      "execution_count": null,
      "outputs": []
    },
    {
      "cell_type": "markdown",
      "source": [
        "### ¿Con qué actividades inicia y termina el proceso?"
      ],
      "metadata": {
        "id": "cBNN8uZ1kGnp"
      }
    },
    {
      "cell_type": "markdown",
      "source": [
        "Para contestar a esta pregunta, el mismo módulo nos provee de dos funciones:\n",
        "\n",
        "\n",
        "\n",
        "```python\n",
        "pm4py.stats.get_start_activities(log_de_eventos)\n",
        "pm4py.stats.get_end_activities(log_de_eventos)\n",
        "```\n",
        "\n",
        "\n",
        "\n",
        "La primera nos retorna un diccionario con las actividades de inicio y la segunda con las actividades de fin.\n",
        "\n",
        "A continuación se proveen funciones que permiten obtenerlas en un formato de Dataframe de Pandas."
      ],
      "metadata": {
        "id": "2Ddn0Rx_kLXL"
      }
    },
    {
      "cell_type": "code",
      "source": [
        "actividades_de_inicio = pm4py.stats.get_start_activities(log_csv)\n",
        "actividades_de_inicio"
      ],
      "metadata": {
        "id": "Axb4h0ntdFu0"
      },
      "execution_count": null,
      "outputs": []
    },
    {
      "cell_type": "code",
      "source": [
        "actividades_de_fin = pm4py.stats.get_end_activities(log_csv)\n",
        "actividades_de_fin"
      ],
      "metadata": {
        "id": "azNte6OJdiKz"
      },
      "execution_count": null,
      "outputs": []
    },
    {
      "cell_type": "markdown",
      "source": [
        "### ¿Cuántas variantes existen?"
      ],
      "metadata": {
        "id": "bbbzeSYymcyD"
      }
    },
    {
      "cell_type": "markdown",
      "source": [
        "Para responder esta pregunta pm4py nos provee con la función:\n",
        "\n",
        "```python\n",
        "pm4py.stats.get_variants(log_de_eventos)\n",
        "```\n",
        "La cuál recibe como entrada un log de eventos y retorna como resultado un diccionario, donde la clave es una tupla, que representa la secuencia de actividades y el valor es la cantidad de veces que aparece dicha variante en el log.\n"
      ],
      "metadata": {
        "id": "Ysv3yvdxjEzS"
      }
    },
    {
      "cell_type": "code",
      "source": [
        "variantes = pm4py.stats.get_variants(log_csv)\n",
        "variantes"
      ],
      "metadata": {
        "id": "NhFDhyJPehPf"
      },
      "execution_count": null,
      "outputs": []
    },
    {
      "cell_type": "markdown",
      "source": [
        "Si quisiéramos saber cuantas variantes hay, podemos preguntar por el largo del diccionario:\n",
        "\n",
        "```python\n",
        "len(pm4py.stats.get_variants(event_log))\n",
        "```\n"
      ],
      "metadata": {
        "id": "fU053X8ojyaC"
      }
    },
    {
      "cell_type": "code",
      "source": [
        "cant_variantes = len(pm4py.stats.get_variants(log_csv))\n",
        "print('El event log cuenta con', cant_variantes, 'variantes')"
      ],
      "metadata": {
        "id": "U3CrxQ_TkDO7"
      },
      "execution_count": null,
      "outputs": []
    },
    {
      "cell_type": "markdown",
      "source": [
        "Como la función anterior retorna las variantes desordenadas, si quisiéramos responder cuáles son las *n* variantes más comunes, bastaría con ordenar de mayor a menor."
      ],
      "metadata": {
        "id": "lKiIiCgLjBQL"
      }
    },
    {
      "cell_type": "code",
      "source": [
        "# Convierto a tipo de dato list, el cuál permite ordenarse\n",
        "list_variantes = list(variantes.items())\n",
        "# Ordeno las variantes\n",
        "list_variantes.sort(key = lambda x: x[1], reverse=True)\n",
        "\n",
        "# Mostraré las 5 más comunes\n",
        "for var in list_variantes[0:5]:\n",
        "  print(var)"
      ],
      "metadata": {
        "id": "1hooMPijjAw6"
      },
      "execution_count": null,
      "outputs": []
    },
    {
      "cell_type": "markdown",
      "source": [
        "### ¿Cuál es la duración (promedio y mediana) de los casos?"
      ],
      "metadata": {
        "id": "cXhgP7DLobg7"
      }
    },
    {
      "cell_type": "markdown",
      "source": [
        "Para contestar la pregunta, se puede obtener la duración de cada uno de los casos del log de eventos a través de las funciones de PM4Py:\n",
        "\n",
        "    \n",
        "```python\n",
        "duraciones_casos = pm4py.stats.get_all_case_durations(log_de_eventos)\n",
        "```\n",
        "Esto retorna una lista de duraciones (en segundos). Luego, se pueden utilizar funcionalidades del módulo Numpy para obtener el promedio o la mediana."
      ],
      "metadata": {
        "id": "o1lbiVH2ojd8"
      }
    },
    {
      "cell_type": "code",
      "source": [
        "duraciones_casos = pm4py.stats.get_all_case_durations(log_csv)\n",
        "duraciones_casos"
      ],
      "metadata": {
        "id": "KRQaIst5k2Hv"
      },
      "execution_count": null,
      "outputs": []
    },
    {
      "cell_type": "code",
      "source": [
        "import numpy as np\n",
        "\n",
        "duracion_promedio = round(np.mean(duraciones_casos))\n",
        "\n",
        "duracion_mediana = round(np.median(duraciones_casos))\n",
        "\n",
        "print('Promedio de duración de los casos:', duracion_promedio)\n",
        "print('Mediana de duración de los casos:', duracion_mediana)"
      ],
      "metadata": {
        "id": "B80gd-pDlEv1"
      },
      "execution_count": null,
      "outputs": []
    },
    {
      "cell_type": "markdown",
      "source": [
        "También es posible generar un gráfico que permita observar la distribución de casos según su duración. Para ello pm4py cuenta con la función:\n",
        "\n",
        "\n",
        "```\n",
        "pm4py.view_case_duration_graph(log_de_eventos)\n",
        "```\n",
        "\n",
        "La que nos entrega esta distribución."
      ],
      "metadata": {
        "id": "zXltOSRQql-E"
      }
    },
    {
      "cell_type": "code",
      "source": [
        "pm4py.view_case_duration_graph(log_csv)"
      ],
      "metadata": {
        "id": "zDTH4m92mkp6"
      },
      "execution_count": null,
      "outputs": []
    },
    {
      "cell_type": "markdown",
      "source": [
        "### ¿Cuál es la distribución de eventos en el tiempo?"
      ],
      "metadata": {
        "id": "9NMYH02Rr7gJ"
      }
    },
    {
      "cell_type": "markdown",
      "source": [
        "También es posible generar un gráfico que permita observar la distribución de eventos en el tiempo. Para ello pm4py cuenta con la función:\n",
        "\n",
        "```\n",
        "pm4py.view_events_per_time_graph(log_de_eventos)\n",
        "```\n",
        "\n",
        "La que nos entrega esta distribución."
      ],
      "metadata": {
        "id": "eABob2EOsEQF"
      }
    },
    {
      "cell_type": "code",
      "source": [
        "pm4py.view_events_per_time_graph(log_csv)"
      ],
      "metadata": {
        "colab": {
          "base_uri": "https://localhost:8080/",
          "height": 538
        },
        "id": "mBpwGk5sm_Sh",
        "outputId": "9d3dd2f9-cd1a-4e93-fab6-85a97b7d6794"
      },
      "execution_count": 47,
      "outputs": [
        {
          "output_type": "display_data",
          "data": {
            "image/png": "[encoded data removed]",
            "text/plain": [
              "<IPython.core.display.Image object>"
            ]
          },
          "metadata": {}
        }
      ]
    },
    {
      "cell_type": "markdown",
      "source": [
        "# 4. Filtrado"
      ],
      "metadata": {
        "id": "ZUlpUC9snfZs"
      }
    },
    {
      "cell_type": "markdown",
      "source": [
        "Del ejemplo, es posible ver que cuando obtuvimos las actividades de fin, pese a que el proceso siempre debería terminar en \"Entregar vehiculo\", en varios casos existen otras actividades de fin.\n",
        "\n",
        "En este caso, podemos asumir que estas actividades representan casos incompletos y podemos filtrarlos para evitar que generen problemas en análisis futuros.\n"
      ],
      "metadata": {
        "id": "SY9Mvr4Cnvlp"
      }
    },
    {
      "cell_type": "code",
      "source": [
        "# Recordemos las actividades\n",
        "actividades_de_fin = pm4py.stats.get_end_activities(log_csv)\n",
        "actividades_de_fin"
      ],
      "metadata": {
        "colab": {
          "base_uri": "https://localhost:8080/"
        },
        "id": "QlRDmXgpn2LY",
        "outputId": "c2734eaf-59c3-4785-c95e-f59922330ee2"
      },
      "execution_count": 48,
      "outputs": [
        {
          "output_type": "execute_result",
          "data": {
            "text/plain": [
              "{'Entregar vehiculo': 783,\n",
              " 'Probar vehiculo': 23,\n",
              " 'Recibir repuestos': 72,\n",
              " 'Instalar repuestos': 5,\n",
              " 'Restaurar danos': 6,\n",
              " 'Comprar repuestos': 19,\n",
              " 'Coordinar retiro': 7,\n",
              " 'Recibir respuesta': 10,\n",
              " 'Enviar presupuesto a cliente': 13}"
            ]
          },
          "metadata": {},
          "execution_count": 48
        }
      ]
    },
    {
      "cell_type": "markdown",
      "source": [
        "Usando la función:\n",
        "\n",
        "\n",
        "```python\n",
        "pm4py.filtering.filter_end_activities(log_de_eventos,\n",
        "                                      actividades_de_fin_permitidas)\n",
        "```\n",
        "\n",
        "Dejaremos solo los casos que terminen con las actividades señaladas en la lista.\n"
      ],
      "metadata": {
        "id": "J7QDT9wTrFIJ"
      }
    },
    {
      "cell_type": "code",
      "source": [
        "log_filtrado = pm4py.filtering.filter_end_activities(log_csv, ['Entregar vehiculo'])"
      ],
      "metadata": {
        "id": "_idTOXrzrE3t"
      },
      "execution_count": 49,
      "outputs": []
    },
    {
      "cell_type": "markdown",
      "source": [
        "Ahora podemos ver que solo tenemos casos que terminan con \"Entregar vehículo\" en el *event log*:"
      ],
      "metadata": {
        "id": "hDK9dvMVrnaE"
      }
    },
    {
      "cell_type": "code",
      "source": [
        "actividades_de_fin = pm4py.stats.get_end_activities(log_filtrado)\n",
        "actividades_de_fin"
      ],
      "metadata": {
        "colab": {
          "base_uri": "https://localhost:8080/"
        },
        "id": "Z8lma8Wjri7V",
        "outputId": "363eb8c1-17ff-4994-ac84-05141ea73b76"
      },
      "execution_count": 50,
      "outputs": [
        {
          "output_type": "execute_result",
          "data": {
            "text/plain": [
              "{'Entregar vehiculo': 783}"
            ]
          },
          "metadata": {},
          "execution_count": 50
        }
      ]
    },
    {
      "cell_type": "markdown",
      "source": [
        "Esto reduce el número de casos de 938 a 783 y también el número de variantes, como podemos ver a continuación:"
      ],
      "metadata": {
        "id": "dBUJyb1YsAd2"
      }
    },
    {
      "cell_type": "code",
      "source": [
        "len(pm4py.stats.get_variants(log_filtrado))"
      ],
      "metadata": {
        "colab": {
          "base_uri": "https://localhost:8080/"
        },
        "id": "WRf8M9SYsEXV",
        "outputId": "6aef5b6f-4f35-4e97-89ef-162dfe09636d"
      },
      "execution_count": 51,
      "outputs": [
        {
          "output_type": "execute_result",
          "data": {
            "text/plain": [
              "34"
            ]
          },
          "metadata": {},
          "execution_count": 51
        }
      ]
    },
    {
      "cell_type": "markdown",
      "source": [
        "Existen otros filtros útiles, los cuáles si bien están fuera del alcance de este tutorial, valen la pena mencionar.\n",
        "\n",
        "Por ejemplo, si queremos filtrar por actividad de inicio, podemos usar la función `filter_start_activities(log, actividades)` con la misma sintaxis que la función anterior.\n",
        "\n",
        "```python\n",
        "pm4py.filtering.filter_start_activities(log_de_eventos,\n",
        "                                      actividades_de_fin_permitidas)\n",
        "```\n",
        "\n",
        "Del mismo modo, se puede filtrar por otros elementos, para ello se usa principalmente la función `filter_event_attribute_values`.\n",
        "\n",
        "\n",
        "```\n",
        "pm4py.filtering.filter_event_attribute_values(log_de_eventos,\n",
        "                                              attribute_key (columna),\n",
        "                                              values (valores),\n",
        "                                              retain (quitar los valores mencionados o quitar todos los demás),\n",
        "                                              level (event o case)\n",
        "                                              )\n",
        "```\n",
        "\n",
        "\n",
        "\n",
        "Esta nos permite filtrar casos por cualquier columna en la tabla. Esta función recibe 5 parámetros:\n",
        "\n",
        "* El *event log* a filtrar (DataFrame).\n",
        "* El nombre de la columna sobre la cual quiero realizar el filtrado (str).\n",
        "* Los valores que quiero filtrar (list).\n",
        "* Un valor retain, el cuál indica si el filtro es para remover los valores de values (Si es True) o si quiero sacar todos los valores que no son iguales a los de la lista values (Si fuese False).\n",
        "* Un string para indicar si el filtro se aplica a nivel de eventos (actividades) o sobre el caso completo.\n",
        "\n",
        "Para ilustrarlo quitaremos, sobre el log ya filtrado, todos los casos en los que no participó el ejecutor de nombre \"Alejandro\".\n"
      ],
      "metadata": {
        "id": "NvRZabPJrsf3"
      }
    },
    {
      "cell_type": "code",
      "source": [
        "casos_sin_alejandro = pm4py.filtering.filter_event_attribute_values(log_filtrado,\n",
        "                                              attribute_key = 'Ejecutor',\n",
        "                                              values = ['Alejandro'],\n",
        "                                              retain = False,\n",
        "                                              level = 'case'\n",
        "                                              )"
      ],
      "metadata": {
        "id": "ez5wcoxMvFan"
      },
      "execution_count": 52,
      "outputs": []
    },
    {
      "cell_type": "markdown",
      "source": [
        "En este caso usamos la columna \"Ejecutor\", para filtrar al ejecutor \"Alejandro\". El retain fue marcado como False para quedarnos solo con los casos sin él y el filtro fue aplicado a nivel de caso, para quedarnos con todos los casos en los que Alejandro no aparece.\n",
        "\n",
        "Podemos ver que el log nuevo no tiene a Alejandro entre los ejecutores:"
      ],
      "metadata": {
        "id": "i1WSIjR3wbPV"
      }
    },
    {
      "cell_type": "code",
      "source": [
        "set(casos_sin_alejandro['Ejecutor'])"
      ],
      "metadata": {
        "colab": {
          "base_uri": "https://localhost:8080/"
        },
        "id": "qjxKVZBSwMKr",
        "outputId": "2b1f90a0-2a3b-42a1-8a2d-135f7b244906"
      },
      "execution_count": 53,
      "outputs": [
        {
          "output_type": "execute_result",
          "data": {
            "text/plain": [
              "{'Arturo',\n",
              " 'Bernardo',\n",
              " 'Daniela',\n",
              " 'Gabriela',\n",
              " 'Isabel',\n",
              " 'Jose',\n",
              " 'Mario',\n",
              " 'Norma',\n",
              " 'Pablo',\n",
              " 'Pedro',\n",
              " 'Roberto',\n",
              " 'Victor',\n",
              " 'Violeta'}"
            ]
          },
          "metadata": {},
          "execution_count": 53
        }
      ]
    },
    {
      "cell_type": "markdown",
      "source": [
        "Y que quedan 700 casos."
      ],
      "metadata": {
        "id": "cALN3ix_w1XK"
      }
    },
    {
      "cell_type": "code",
      "source": [
        "len(set(casos_sin_alejandro['case:concept:name']))"
      ],
      "metadata": {
        "colab": {
          "base_uri": "https://localhost:8080/"
        },
        "id": "zI3-JfvevquF",
        "outputId": "9b7336e8-61f8-4467-e326-8658e08494bc"
      },
      "execution_count": 54,
      "outputs": [
        {
          "output_type": "execute_result",
          "data": {
            "text/plain": [
              "700"
            ]
          },
          "metadata": {},
          "execution_count": 54
        }
      ]
    },
    {
      "cell_type": "markdown",
      "source": [
        "Finalmente, sin en cambio hubiésemos querido quitar solo las actividades en las que participó Alejandro, pero no los casos completos, bastaría con modificar el atributo `level` de `'case'` a `'event'`.\n"
      ],
      "metadata": {
        "id": "DsYJFOnbw4E8"
      }
    },
    {
      "cell_type": "code",
      "source": [
        "eventos_sin_alejandro = pm4py.filtering.filter_event_attribute_values(log_filtrado,\n",
        "                                              attribute_key = 'Ejecutor',\n",
        "                                              values = ['Alejandro'],\n",
        "                                              retain = False,\n",
        "                                              level = 'event'\n",
        "                                              )"
      ],
      "metadata": {
        "id": "SarKFVf5xAJ5"
      },
      "execution_count": 55,
      "outputs": []
    },
    {
      "cell_type": "markdown",
      "source": [
        "Como podemos ver, al aplicar este filtro, mantenemos la totalidad de los casos."
      ],
      "metadata": {
        "id": "Og0IaQ4rxNGW"
      }
    },
    {
      "cell_type": "code",
      "source": [
        "len(set(eventos_sin_alejandro['case:concept:name']))"
      ],
      "metadata": {
        "colab": {
          "base_uri": "https://localhost:8080/"
        },
        "id": "XtnqyxmjxMqy",
        "outputId": "996b1f89-d214-4799-a230-b9051158ecda"
      },
      "execution_count": 56,
      "outputs": [
        {
          "output_type": "execute_result",
          "data": {
            "text/plain": [
              "783"
            ]
          },
          "metadata": {},
          "execution_count": 56
        }
      ]
    },
    {
      "cell_type": "markdown",
      "source": [
        "Pero Alejandro sigue sin ser parte de la lista de ejecutores:"
      ],
      "metadata": {
        "id": "kU8HJZ3pxarT"
      }
    },
    {
      "cell_type": "code",
      "source": [
        "set(casos_sin_alejandro['Ejecutor'])"
      ],
      "metadata": {
        "colab": {
          "base_uri": "https://localhost:8080/"
        },
        "id": "pBoaN_B4xdAf",
        "outputId": "f0686362-a8ba-4997-9c2b-f4157188ab8c"
      },
      "execution_count": 57,
      "outputs": [
        {
          "output_type": "execute_result",
          "data": {
            "text/plain": [
              "{'Arturo',\n",
              " 'Bernardo',\n",
              " 'Daniela',\n",
              " 'Gabriela',\n",
              " 'Isabel',\n",
              " 'Jose',\n",
              " 'Mario',\n",
              " 'Norma',\n",
              " 'Pablo',\n",
              " 'Pedro',\n",
              " 'Roberto',\n",
              " 'Victor',\n",
              " 'Violeta'}"
            ]
          },
          "metadata": {},
          "execution_count": 57
        }
      ]
    },
    {
      "cell_type": "markdown",
      "source": [
        "Existen otros filtros interesantes en pm4py, como por ejemplo filtros por duración, por período de tiempo, o por variante.\n",
        "\n",
        "Si deseas conocer más, visita la documentación oficial de pm4py: https://pm4py.fit.fraunhofer.de/static/assets/api/2.7.8/api.html#filtering-pm4py-filtering\n"
      ],
      "metadata": {
        "id": "1QJU64bkxhT0"
      }
    }
  ]
}