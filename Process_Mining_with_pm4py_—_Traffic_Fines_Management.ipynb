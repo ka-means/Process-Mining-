{
  "nbformat": 4,
  "nbformat_minor": 0,
  "metadata": {
    "colab": {
      "provenance": [],
      "authorship_tag": "ABX9TyPyU403V1z8WasT7cTuSrty",
      "include_colab_link": true
    },
    "kernelspec": {
      "name": "python3",
      "display_name": "Python 3"
    },
    "language_info": {
      "name": "python"
    }
  },
  "cells": [
    {
      "cell_type": "markdown",
      "metadata": {
        "id": "view-in-github",
        "colab_type": "text"
      },
      "source": [
        "<a href=\"https://colab.research.google.com/github/ka-means/Process-Mining-/blob/main/Process_Mining_with_pm4py_%E2%80%94_Traffic_Fines_Management.ipynb\" target=\"_parent\"><img src=\"https://colab.research.google.com/assets/colab-badge.svg\" alt=\"Open In Colab\"/></a>"
      ]
    },
    {
      "cell_type": "markdown",
      "source": [
        "# Process Mining Activity with pm4py on Traffic Fines Management\n",
        "\n",
        "The goal is to practice Process Mining concepts by applying pm4py to a simulated event log of a traffic fines management process. Through log exploration and the Alpha algorithm, we answer multiple-choice and numeric questions. The work covers case counts, variants, start and end activities, frequency DFG, the footprint matrix, and discovery of a Petri net on filtered subsets of the log."
      ],
      "metadata": {
        "id": "ljvxttaLic7i"
      }
    },
    {
      "cell_type": "code",
      "source": [
        "!pip -q install pm4py==2.7.7 pandas==2.2.2\n"
      ],
      "metadata": {
        "colab": {
          "base_uri": "https://localhost:8080/"
        },
        "id": "cAX8InGYTQLN",
        "outputId": "840451a5-1140-4160-ecaa-6fe1f64d099d"
      },
      "execution_count": 8,
      "outputs": [
        {
          "output_type": "stream",
          "name": "stdout",
          "text": [
            "  Preparing metadata (setup.py) ... \u001b[?25l\u001b[?25hdone\n",
            "\u001b[?25l   \u001b[90m━━━━━━━━━━━━━━━━━━━━━━━━━━━━━━━━━━━━━━━━\u001b[0m \u001b[32m0.0/1.8 MB\u001b[0m \u001b[31m?\u001b[0m eta \u001b[36m-:--:--\u001b[0m\r\u001b[2K   \u001b[91m━━━━━━━━━━━━━━━━━━━━━━━━━━━━━━━━━━━━━━━\u001b[0m\u001b[91m╸\u001b[0m \u001b[32m1.8/1.8 MB\u001b[0m \u001b[31m95.3 MB/s\u001b[0m eta \u001b[36m0:00:01\u001b[0m\r\u001b[2K   \u001b[90m━━━━━━━━━━━━━━━━━━━━━━━━━━━━━━━━━━━━━━━━\u001b[0m \u001b[32m1.8/1.8 MB\u001b[0m \u001b[31m47.7 MB/s\u001b[0m eta \u001b[36m0:00:00\u001b[0m\n",
            "\u001b[?25h  Building wheel for stringdist (setup.py) ... \u001b[?25l\u001b[?25hdone\n"
          ]
        }
      ]
    },
    {
      "cell_type": "markdown",
      "source": [
        "# Cargar y formatear el event log"
      ],
      "metadata": {
        "id": "RvWlBdnwRxaD"
      }
    },
    {
      "cell_type": "code",
      "execution_count": 14,
      "metadata": {
        "id": "HQRhEBs5QYfG"
      },
      "outputs": [],
      "source": [
        "import os, pandas as pd, pm4py\n",
        "os.environ[\"CUDF_PANDAS_DISABLE\"] = \"1\"\n",
        "\n",
        "# Carga\n",
        "df = pd.read_csv(\"/content/log_gestion_multas_transito.csv\", sep=\";\")\n",
        "df[\"Fin\"] = pd.to_datetime(df[\"Fin\"])\n",
        "\n",
        "# Formatea a XES y crea event log\n",
        "df = pm4py.format_dataframe(df, case_id=\"ID caso\", activity_key=\"Actividad\", timestamp_key=\"Fin\")\n",
        "df = df.rename(columns={\"Ejecutor\":\"org:resource\"})  # si existe, no pasa nada\n",
        "elog = pm4py.convert_to_event_log(df)\n",
        "\n",
        "# Helpers\n",
        "def variants_of(elog_):\n",
        "    from pm4py.statistics.traces.generic.log import case_statistics\n",
        "    v = case_statistics.get_variant_statistics(elog_)\n",
        "    return sorted(v, key=lambda x: x[\"count\"], reverse=True)\n",
        "\n"
      ]
    },
    {
      "cell_type": "markdown",
      "source": [
        "### Chequeo"
      ],
      "metadata": {
        "id": "vkj1SzYPUDmu"
      }
    },
    {
      "cell_type": "code",
      "source": [
        "from pm4py.statistics.start_activities.log import get as sa\n",
        "from pm4py.statistics.end_activities.log import get as ea\n",
        "\n",
        "print(\"Casos:\", len(elog))\n",
        "print(\"Eventos:\", sum(len(t) for t in elog))\n",
        "print(\"Actividades:\", len(pm4py.get_event_attribute_values(elog, \"concept:name\")))\n",
        "print(\"Start:\", sa.get_start_activities(elog))\n",
        "print(\"End:\", ea.get_end_activities(elog))\n"
      ],
      "metadata": {
        "colab": {
          "base_uri": "https://localhost:8080/"
        },
        "id": "Y4UotGbBT6VX",
        "outputId": "664b3a72-5e7b-41aa-f434-84c70c9059c9"
      },
      "execution_count": 15,
      "outputs": [
        {
          "output_type": "stream",
          "name": "stdout",
          "text": [
            "Casos: 25577\n",
            "Eventos: 91082\n",
            "Actividades: 8\n",
            "Start: {'Crear multa': 25577}\n",
            "End: {'Recibir pago': 17750, 'Enviar a recoleccion de credito': 5295, 'Apelacion multa': 711, 'Anadir penalizacion': 968, 'Insertar notificacion multa': 405, 'Insertar fecha apelacion multa': 8, 'Enviar multa': 14, 'Crear multa': 426}\n"
          ]
        }
      ]
    },
    {
      "cell_type": "markdown",
      "source": [
        "# Preguntas  \n",
        "\n",
        "Aplicar algoritmo Alpha:\n",
        "\n",
        "*   Descubre la matriz de huella del proceso.\n",
        "*   Obtén la red de Petri de una versión filtrada del event log.\n",
        "\n",
        "\n",
        "\n"
      ],
      "metadata": {
        "id": "sVGxZWHjUwug"
      }
    },
    {
      "cell_type": "markdown",
      "source": [
        "### 1. ¿Cuántas ejecuciones del proceso (casos) tiene el event log?   "
      ],
      "metadata": {
        "id": "T5FCaEXDUt7j"
      }
    },
    {
      "cell_type": "code",
      "source": [
        "df['case:concept:name'].nunique()\n"
      ],
      "metadata": {
        "colab": {
          "base_uri": "https://localhost:8080/"
        },
        "id": "qtqpLtJPVH0B",
        "outputId": "a4531d61-7659-4668-ef88-8d29289ba299"
      },
      "execution_count": 16,
      "outputs": [
        {
          "output_type": "execute_result",
          "data": {
            "text/plain": [
              "25577"
            ]
          },
          "metadata": {},
          "execution_count": 16
        }
      ]
    },
    {
      "cell_type": "code",
      "source": [
        "# 1) Verificar que todos los casos inician en \"Crear multa\"\n",
        "df_sorted = df.sort_values(['case:concept:name','time:timestamp'])\n",
        "starts = df_sorted.groupby('case:concept:name').first()['concept:name'].value_counts()\n",
        "print(starts)  # debe mostrar solo \"Crear multa\" con 25577\n",
        "\n",
        "# 2) Verificar que \"Crear multa\" aparece exactamente 1 vez por caso\n",
        "cm_counts = df_sorted.assign(es_cm = df_sorted['concept:name'].eq('Crear multa')) \\\n",
        "                     .groupby('case:concept:name')['es_cm'].sum()\n",
        "print(\"Mín:\", cm_counts.min(), \"Máx:\", cm_counts.max())  # ambos deben ser 1\n",
        "print(\"Casos con !=1 ocurrencias:\", (cm_counts!=1).sum())  # debe ser 0\n"
      ],
      "metadata": {
        "colab": {
          "base_uri": "https://localhost:8080/"
        },
        "id": "_tkkQQZ3buLa",
        "outputId": "24ba8fee-d15a-4d7c-d510-a3d368b2abc9"
      },
      "execution_count": 37,
      "outputs": [
        {
          "output_type": "stream",
          "name": "stdout",
          "text": [
            "concept:name\n",
            "Crear multa    25577\n",
            "Name: count, dtype: Int64\n",
            "Mín: 1 Máx: 1\n",
            "Casos con !=1 ocurrencias: 0\n"
          ]
        }
      ]
    },
    {
      "cell_type": "markdown",
      "source": [
        "### 2. ¿Cuántas actividades distintas tiene el proceso?  \n",
        "\n"
      ],
      "metadata": {
        "id": "fvUJnecCV3B-"
      }
    },
    {
      "cell_type": "code",
      "source": [
        "df['concept:name'].nunique()\n"
      ],
      "metadata": {
        "colab": {
          "base_uri": "https://localhost:8080/"
        },
        "id": "DrgEtrdxV2x6",
        "outputId": "61a2e86a-57c3-4a4e-80d6-214a0f4c31db"
      },
      "execution_count": 17,
      "outputs": [
        {
          "output_type": "execute_result",
          "data": {
            "text/plain": [
              "8"
            ]
          },
          "metadata": {},
          "execution_count": 17
        }
      ]
    },
    {
      "cell_type": "markdown",
      "source": [
        "### 3. ¿Cuál es la actividad que más veces se realiza?  "
      ],
      "metadata": {
        "id": "X81AVOWgWAVD"
      }
    },
    {
      "cell_type": "code",
      "source": [
        "df['concept:name'].value_counts().head(1)\n"
      ],
      "metadata": {
        "colab": {
          "base_uri": "https://localhost:8080/",
          "height": 146
        },
        "id": "SW_4WPSTWAlm",
        "outputId": "90177e3b-3fb8-4096-c48e-5c68f1b19e63"
      },
      "execution_count": 18,
      "outputs": [
        {
          "output_type": "execute_result",
          "data": {
            "text/plain": [
              "concept:name\n",
              "Crear multa    25577\n",
              "Name: count, dtype: Int64"
            ],
            "text/html": [
              "<div>\n",
              "<style scoped>\n",
              "    .dataframe tbody tr th:only-of-type {\n",
              "        vertical-align: middle;\n",
              "    }\n",
              "\n",
              "    .dataframe tbody tr th {\n",
              "        vertical-align: top;\n",
              "    }\n",
              "\n",
              "    .dataframe thead th {\n",
              "        text-align: right;\n",
              "    }\n",
              "</style>\n",
              "<table border=\"1\" class=\"dataframe\">\n",
              "  <thead>\n",
              "    <tr style=\"text-align: right;\">\n",
              "      <th></th>\n",
              "      <th>count</th>\n",
              "    </tr>\n",
              "    <tr>\n",
              "      <th>concept:name</th>\n",
              "      <th></th>\n",
              "    </tr>\n",
              "  </thead>\n",
              "  <tbody>\n",
              "    <tr>\n",
              "      <th>Crear multa</th>\n",
              "      <td>25577</td>\n",
              "    </tr>\n",
              "  </tbody>\n",
              "</table>\n",
              "</div><br><label><b>dtype:</b> Int64</label>"
            ]
          },
          "metadata": {},
          "execution_count": 18
        }
      ]
    },
    {
      "cell_type": "markdown",
      "source": [
        "### 4.  Sin contar al “Sistema”, ¿cuántos ejecutores tiene el proceso?"
      ],
      "metadata": {
        "id": "7ktE-zLCWZf5"
      }
    },
    {
      "cell_type": "code",
      "source": [
        "res_col = 'org:resource' if 'org:resource' in df.columns else 'Ejecutor'\n",
        "df.loc[df[res_col].notna() & (df[res_col] != 'Sistema'), res_col].nunique()\n"
      ],
      "metadata": {
        "colab": {
          "base_uri": "https://localhost:8080/"
        },
        "id": "xBDKPSRrWemG",
        "outputId": "a2df0ea0-84c2-4aea-c3d3-00e348fbba90"
      },
      "execution_count": 19,
      "outputs": [
        {
          "output_type": "execute_result",
          "data": {
            "text/plain": [
              "18"
            ]
          },
          "metadata": {},
          "execution_count": 19
        }
      ]
    },
    {
      "cell_type": "markdown",
      "source": [
        "### 5.  ¿Cuál es el tiempo promedio que tarda el proceso en ejecutarse?  "
      ],
      "metadata": {
        "id": "G9eogWrUWlCz"
      }
    },
    {
      "cell_type": "code",
      "source": [
        "tmp = df.sort_values(['case:concept:name','time:timestamp']).groupby('case:concept:name').agg(\n",
        "    start=('time:timestamp','first'), end=('time:timestamp','last'))\n",
        "secs = (tmp['end'] - tmp['start']).dt.total_seconds()\n",
        "secs.mean(), secs.mean()/86400\n"
      ],
      "metadata": {
        "colab": {
          "base_uri": "https://localhost:8080/"
        },
        "id": "RmHGNxAVWiU6",
        "outputId": "89bfd36a-2cec-4623-a1fd-0ec3124b9e91"
      },
      "execution_count": 20,
      "outputs": [
        {
          "output_type": "execute_result",
          "data": {
            "text/plain": [
              "(np.float64(10449181.170934824), np.float64(120.93959688581973))"
            ]
          },
          "metadata": {},
          "execution_count": 20
        }
      ]
    },
    {
      "cell_type": "markdown",
      "source": [
        "### 6. ¿Cuál de las siguientes secuencias de actividades corresponde a la variante más común?  "
      ],
      "metadata": {
        "id": "1p1oSQtVWxIN"
      }
    },
    {
      "cell_type": "code",
      "source": [
        "vars_all = variants_of(elog)\n",
        "vars_all[0]['variant'], vars_all[0]['count']\n"
      ],
      "metadata": {
        "colab": {
          "base_uri": "https://localhost:8080/"
        },
        "id": "rQrNB_ddWxUO",
        "outputId": "84e956f5-a78d-4e7f-e127-cda147159260"
      },
      "execution_count": 21,
      "outputs": [
        {
          "output_type": "execute_result",
          "data": {
            "text/plain": [
              "(('Crear multa', 'Recibir pago'), 10999)"
            ]
          },
          "metadata": {},
          "execution_count": 21
        }
      ]
    },
    {
      "cell_type": "markdown",
      "source": [
        "### 7. Filtra el proceso para dejar únicamente los casos terminados en ‘Recibir pago’ y ‘Enviar a recolección de crédito’. ¿Cuántas variantes (formas de ejecutar el proceso) quedan?"
      ],
      "metadata": {
        "id": "R5uEMD6kW58m"
      }
    },
    {
      "cell_type": "code",
      "source": [
        "# 1) calcular los casos a conservar por actividad final\n",
        "ends = {t.attributes[\"concept:name\"]: t[-1][\"concept:name\"] for t in elog}\n",
        "keep_ids = [cid for cid,a in ends.items() if a in [\"Recibir pago\",\"Enviar a recoleccion de credito\"]]\n",
        "\n",
        "# 2) filtrar el DataFrame por esos case ids\n",
        "df_f = df[df['case:concept:name'].isin(keep_ids)]\n",
        "\n",
        "# 3) reconvertir a EventLog\n",
        "elog_f = pm4py.convert_to_event_log(df_f)\n",
        "\n",
        "# 4) contar variantes\n",
        "from pm4py.statistics.traces.generic.log import case_statistics\n",
        "vars_f = case_statistics.get_variant_statistics(elog_f)\n",
        "len(vars_f)\n"
      ],
      "metadata": {
        "colab": {
          "base_uri": "https://localhost:8080/"
        },
        "id": "106cT1DLXACH",
        "outputId": "889159d3-eff7-423a-b587-63e88889861c"
      },
      "execution_count": 27,
      "outputs": [
        {
          "output_type": "execute_result",
          "data": {
            "text/plain": [
              "9"
            ]
          },
          "metadata": {},
          "execution_count": 27
        }
      ]
    },
    {
      "cell_type": "markdown",
      "source": [
        "### 8. Al revisar la matriz de huellas del log de eventos, ¿qué par de actividades se ejecutan en paralelismo?"
      ],
      "metadata": {
        "id": "t_lkHAWzXFSB"
      }
    },
    {
      "cell_type": "code",
      "source": [
        "from pm4py.algo.discovery.dfg import algorithm as dfg_discovery\n",
        "dfg = dfg_discovery.apply(elog, variant=dfg_discovery.Variants.FREQUENCY)\n",
        "def both(a,b): return ((a,b) in dfg) and ((b,a) in dfg)\n",
        "pairs = {\n",
        "    (\"Anadir penalizacion\",\"Recibir pago\"): both(\"Anadir penalizacion\",\"Recibir pago\"),\n",
        "    (\"Anadir penalizacion\",\"Apelacion multa\"): both(\"Anadir penalizacion\",\"Apelacion multa\"),\n",
        "    (\"Apelacion multa\",\"Enviar a recoleccion de credito\"): both(\"Apelacion multa\",\"Enviar a recoleccion de credito\"),\n",
        "    (\"Enviar multa\",\"Insertar notificacion multa\"): both(\"Enviar multa\",\"Insertar notificacion multa\"),\n",
        "}\n",
        "pairs\n"
      ],
      "metadata": {
        "colab": {
          "base_uri": "https://localhost:8080/"
        },
        "id": "Olry1MSPXK1k",
        "outputId": "e5f5f643-3005-41ec-8c81-f32e607ca84a"
      },
      "execution_count": 23,
      "outputs": [
        {
          "output_type": "execute_result",
          "data": {
            "text/plain": [
              "{('Anadir penalizacion', 'Recibir pago'): False,\n",
              " ('Anadir penalizacion', 'Apelacion multa'): True,\n",
              " ('Apelacion multa', 'Enviar a recoleccion de credito'): False,\n",
              " ('Enviar multa', 'Insertar notificacion multa'): False}"
            ]
          },
          "metadata": {},
          "execution_count": 23
        }
      ]
    },
    {
      "cell_type": "markdown",
      "source": [
        "### 9. Filtra el proceso para dejar solo los casos terminados en ‘Enviar a recolección de crédito’. ¿Cuál de las siguientes secuencias de actividades corresponde a la variante más común entre las que quedaron?"
      ],
      "metadata": {
        "id": "XztNnEbTXUDV"
      }
    },
    {
      "cell_type": "code",
      "source": [
        "# 1) obtener los casos cuyo último evento es 'Enviar a recoleccion de credito'\n",
        "df_sorted = df.sort_values(['case:concept:name','time:timestamp'])\n",
        "ends_df = df_sorted.groupby('case:concept:name').tail(1)\n",
        "keep_ids = ends_df.loc[\n",
        "    ends_df['concept:name'] == 'Enviar a recoleccion de credito',\n",
        "    'case:concept:name'\n",
        "].unique().tolist()\n",
        "\n",
        "# 2) filtrar el DataFrame y reconvertir a EventLog\n",
        "df_c = df[df['case:concept:name'].isin(keep_ids)]\n",
        "elog_c = pm4py.convert_to_event_log(df_c)\n",
        "\n",
        "# 3) contar variantes y tomar la más común\n",
        "from pm4py.statistics.traces.generic.log import case_statistics\n",
        "vars_c = case_statistics.get_variant_statistics(elog_c)\n",
        "vars_c = sorted(vars_c, key=lambda x: x['count'], reverse=True)\n",
        "vars_c[0]['variant'], vars_c[0]['count']\n",
        "\n",
        "\n"
      ],
      "metadata": {
        "colab": {
          "base_uri": "https://localhost:8080/"
        },
        "id": "IJgaIuIoXY4e",
        "outputId": "cadbf0d3-88e9-4945-b836-d7d5b3e83a09"
      },
      "execution_count": 30,
      "outputs": [
        {
          "output_type": "execute_result",
          "data": {
            "text/plain": [
              "(('Crear multa',\n",
              "  'Enviar multa',\n",
              "  'Insertar notificacion multa',\n",
              "  'Anadir penalizacion',\n",
              "  'Enviar a recoleccion de credito'),\n",
              " 5000)"
            ]
          },
          "metadata": {},
          "execution_count": 30
        }
      ]
    },
    {
      "cell_type": "code",
      "source": [
        "v = vars_c[0]['variant']\n",
        "if isinstance(v, (list, tuple)):\n",
        "    v_str = \", \".join(v)\n",
        "else:\n",
        "    v_str = str(v).replace(\",\", \", \")\n",
        "print(v_str, \" · casos:\", vars_c[0]['count'])\n",
        "\n"
      ],
      "metadata": {
        "colab": {
          "base_uri": "https://localhost:8080/"
        },
        "id": "3HcoPBaDYWKa",
        "outputId": "a1697f1e-2ef3-48c6-e318-f9a814d350d7"
      },
      "execution_count": 32,
      "outputs": [
        {
          "output_type": "stream",
          "name": "stdout",
          "text": [
            "Crear multa, Enviar multa, Insertar notificacion multa, Anadir penalizacion, Enviar a recoleccion de credito  · casos: 5000\n"
          ]
        }
      ]
    },
    {
      "cell_type": "markdown",
      "source": [
        "### 10. Filtra el proceso para seleccionar solo los casos en donde la Severidad de la multa es igual a 3.0 ¿Cuántas ejecuciones del proceso (casos) quedan?  \n",
        "\n"
      ],
      "metadata": {
        "id": "P0LVSHUjXb6n"
      }
    },
    {
      "cell_type": "code",
      "source": [
        "df.loc[df['Severidad']==3.0, 'case:concept:name'].nunique()\n"
      ],
      "metadata": {
        "colab": {
          "base_uri": "https://localhost:8080/"
        },
        "id": "Jm9bYZ-1XpeB",
        "outputId": "d4db7015-005f-4108-a12f-adca6c3653e5"
      },
      "execution_count": 26,
      "outputs": [
        {
          "output_type": "execute_result",
          "data": {
            "text/plain": [
              "4661"
            ]
          },
          "metadata": {},
          "execution_count": 26
        }
      ]
    },
    {
      "cell_type": "markdown",
      "source": [
        "### 11. Filtra el proceso para dejar solo los casos terminados en ‘Recibir pago’ y ‘Enviar a recolección de crédito’. ¿Cuántos places y transiciones se generan al ejecutar el algoritmo Alpha sobre el log filtrado?  \n"
      ],
      "metadata": {
        "id": "dALe8Pr_XkbC"
      }
    },
    {
      "cell_type": "code",
      "source": [
        "import pm4py\n",
        "import pandas as pd\n",
        "\n",
        "\n",
        "# identificar los casos cuyo último evento es pago o recolección\n",
        "df_sorted = df.sort_values(['case:concept:name','time:timestamp'])\n",
        "ends_df = df_sorted.groupby('case:concept:name').tail(1)\n",
        "keep_ids = ends_df.loc[\n",
        "    ends_df['concept:name'].isin(['Recibir pago','Enviar a recoleccion de credito']),\n",
        "    'case:concept:name'\n",
        "].unique().tolist()\n",
        "\n",
        "# filtrar el DataFrame y convertir a EventLog\n",
        "df_f = df[df['case:concept:name'].isin(keep_ids)]\n",
        "elog_f = pm4py.convert_to_event_log(df_f)\n",
        "\n",
        "# chequeo rápido\n",
        "from pm4py.statistics.traces.generic.log import case_statistics\n",
        "print(\"Casos filtrados:\", len(elog_f))\n",
        "print(\"Variantes filtradas:\", len(case_statistics.get_variant_statistics(elog_f)))\n",
        "\n"
      ],
      "metadata": {
        "colab": {
          "base_uri": "https://localhost:8080/"
        },
        "id": "nB_D5uMZXo-C",
        "outputId": "deabc59f-89e7-4bb0-c2f5-4ec2a5102258"
      },
      "execution_count": 35,
      "outputs": [
        {
          "output_type": "stream",
          "name": "stdout",
          "text": [
            "Casos filtrados: 23045\n",
            "Variantes filtradas: 9\n"
          ]
        }
      ]
    },
    {
      "cell_type": "code",
      "source": [
        "from pm4py.algo.discovery.alpha import algorithm as alpha_miner\n",
        "\n",
        "net, im, fm = alpha_miner.apply(elog_f)\n",
        "print(\"Places:\", len(net.places))\n",
        "print(\"Transiciones:\", len(net.transitions))\n",
        "\n",
        "# si quieres ver los nombres de las transiciones\n",
        "print(sorted([t.label for t in net.transitions if t.label is not None]))\n"
      ],
      "metadata": {
        "colab": {
          "base_uri": "https://localhost:8080/"
        },
        "id": "ZaT_2nMaaLZ0",
        "outputId": "f99cfbbd-a7d6-4d53-8636-872fa9ff5a7a"
      },
      "execution_count": 36,
      "outputs": [
        {
          "output_type": "stream",
          "name": "stdout",
          "text": [
            "Places: 12\n",
            "Transiciones: 8\n",
            "['Anadir penalizacion', 'Apelacion multa', 'Crear multa', 'Enviar a recoleccion de credito', 'Enviar multa', 'Insertar fecha apelacion multa', 'Insertar notificacion multa', 'Recibir pago']\n"
          ]
        }
      ]
    }
  ]
}