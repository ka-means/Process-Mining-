{
  "nbformat": 4,
  "nbformat_minor": 0,
  "metadata": {
    "colab": {
      "provenance": [],
      "include_colab_link": true
    },
    "kernelspec": {
      "name": "python3",
      "display_name": "Python 3"
    },
    "language_info": {
      "name": "python"
    },
    "widgets": {
      "application/vnd.jupyter.widget-state+json": {
        "71f20c1cc2304979b6d0f09c36395fa6": {
          "model_module": "@jupyter-widgets/controls",
          "model_name": "HBoxModel",
          "model_module_version": "1.5.0",
          "state": {
            "_dom_classes": [],
            "_model_module": "@jupyter-widgets/controls",
            "_model_module_version": "1.5.0",
            "_model_name": "HBoxModel",
            "_view_count": null,
            "_view_module": "@jupyter-widgets/controls",
            "_view_module_version": "1.5.0",
            "_view_name": "HBoxView",
            "box_style": "",
            "children": [
              "IPY_MODEL_7ab376f0ce754851acb127e6df3b3534",
              "IPY_MODEL_e649f767d37c43309ff61be354eff185",
              "IPY_MODEL_0d799965ab2c45e9a6108898a2718959"
            ],
            "layout": "IPY_MODEL_e27729c7fa394ea2b98bf1d91f487ff1"
          }
        },
        "7ab376f0ce754851acb127e6df3b3534": {
          "model_module": "@jupyter-widgets/controls",
          "model_name": "HTMLModel",
          "model_module_version": "1.5.0",
          "state": {
            "_dom_classes": [],
            "_model_module": "@jupyter-widgets/controls",
            "_model_module_version": "1.5.0",
            "_model_name": "HTMLModel",
            "_view_count": null,
            "_view_module": "@jupyter-widgets/controls",
            "_view_module_version": "1.5.0",
            "_view_name": "HTMLView",
            "description": "",
            "description_tooltip": null,
            "layout": "IPY_MODEL_d1b16d47916c476d858146092057f2ff",
            "placeholder": "​",
            "style": "IPY_MODEL_a2289a0722dc435aac61d1949089e854",
            "value": "parsing log, completed traces :: 100%"
          }
        },
        "e649f767d37c43309ff61be354eff185": {
          "model_module": "@jupyter-widgets/controls",
          "model_name": "FloatProgressModel",
          "model_module_version": "1.5.0",
          "state": {
            "_dom_classes": [],
            "_model_module": "@jupyter-widgets/controls",
            "_model_module_version": "1.5.0",
            "_model_name": "FloatProgressModel",
            "_view_count": null,
            "_view_module": "@jupyter-widgets/controls",
            "_view_module_version": "1.5.0",
            "_view_name": "ProgressView",
            "bar_style": "success",
            "description": "",
            "description_tooltip": null,
            "layout": "IPY_MODEL_7980725818f84c468c2605ba232696ca",
            "max": 938,
            "min": 0,
            "orientation": "horizontal",
            "style": "IPY_MODEL_befaa06b17034a7b9cd9ed67e9a0f634",
            "value": 938
          }
        },
        "0d799965ab2c45e9a6108898a2718959": {
          "model_module": "@jupyter-widgets/controls",
          "model_name": "HTMLModel",
          "model_module_version": "1.5.0",
          "state": {
            "_dom_classes": [],
            "_model_module": "@jupyter-widgets/controls",
            "_model_module_version": "1.5.0",
            "_model_name": "HTMLModel",
            "_view_count": null,
            "_view_module": "@jupyter-widgets/controls",
            "_view_module_version": "1.5.0",
            "_view_name": "HTMLView",
            "description": "",
            "description_tooltip": null,
            "layout": "IPY_MODEL_a1108c43c89b4779986e54679cf23733",
            "placeholder": "​",
            "style": "IPY_MODEL_e8e2f99d02f04b8cb9d7ae4ba1877728",
            "value": " 938/938 [00:00&lt;00:00, 1435.00it/s]"
          }
        },
        "e27729c7fa394ea2b98bf1d91f487ff1": {
          "model_module": "@jupyter-widgets/base",
          "model_name": "LayoutModel",
          "model_module_version": "1.2.0",
          "state": {
            "_model_module": "@jupyter-widgets/base",
            "_model_module_version": "1.2.0",
            "_model_name": "LayoutModel",
            "_view_count": null,
            "_view_module": "@jupyter-widgets/base",
            "_view_module_version": "1.2.0",
            "_view_name": "LayoutView",
            "align_content": null,
            "align_items": null,
            "align_self": null,
            "border": null,
            "bottom": null,
            "display": null,
            "flex": null,
            "flex_flow": null,
            "grid_area": null,
            "grid_auto_columns": null,
            "grid_auto_flow": null,
            "grid_auto_rows": null,
            "grid_column": null,
            "grid_gap": null,
            "grid_row": null,
            "grid_template_areas": null,
            "grid_template_columns": null,
            "grid_template_rows": null,
            "height": null,
            "justify_content": null,
            "justify_items": null,
            "left": null,
            "margin": null,
            "max_height": null,
            "max_width": null,
            "min_height": null,
            "min_width": null,
            "object_fit": null,
            "object_position": null,
            "order": null,
            "overflow": null,
            "overflow_x": null,
            "overflow_y": null,
            "padding": null,
            "right": null,
            "top": null,
            "visibility": null,
            "width": null
          }
        },
        "d1b16d47916c476d858146092057f2ff": {
          "model_module": "@jupyter-widgets/base",
          "model_name": "LayoutModel",
          "model_module_version": "1.2.0",
          "state": {
            "_model_module": "@jupyter-widgets/base",
            "_model_module_version": "1.2.0",
            "_model_name": "LayoutModel",
            "_view_count": null,
            "_view_module": "@jupyter-widgets/base",
            "_view_module_version": "1.2.0",
            "_view_name": "LayoutView",
            "align_content": null,
            "align_items": null,
            "align_self": null,
            "border": null,
            "bottom": null,
            "display": null,
            "flex": null,
            "flex_flow": null,
            "grid_area": null,
            "grid_auto_columns": null,
            "grid_auto_flow": null,
            "grid_auto_rows": null,
            "grid_column": null,
            "grid_gap": null,
            "grid_row": null,
            "grid_template_areas": null,
            "grid_template_columns": null,
            "grid_template_rows": null,
            "height": null,
            "justify_content": null,
            "justify_items": null,
            "left": null,
            "margin": null,
            "max_height": null,
            "max_width": null,
            "min_height": null,
            "min_width": null,
            "object_fit": null,
            "object_position": null,
            "order": null,
            "overflow": null,
            "overflow_x": null,
            "overflow_y": null,
            "padding": null,
            "right": null,
            "top": null,
            "visibility": null,
            "width": null
          }
        },
        "a2289a0722dc435aac61d1949089e854": {
          "model_module": "@jupyter-widgets/controls",
          "model_name": "DescriptionStyleModel",
          "model_module_version": "1.5.0",
          "state": {
            "_model_module": "@jupyter-widgets/controls",
            "_model_module_version": "1.5.0",
            "_model_name": "DescriptionStyleModel",
            "_view_count": null,
            "_view_module": "@jupyter-widgets/base",
            "_view_module_version": "1.2.0",
            "_view_name": "StyleView",
            "description_width": ""
          }
        },
        "7980725818f84c468c2605ba232696ca": {
          "model_module": "@jupyter-widgets/base",
          "model_name": "LayoutModel",
          "model_module_version": "1.2.0",
          "state": {
            "_model_module": "@jupyter-widgets/base",
            "_model_module_version": "1.2.0",
            "_model_name": "LayoutModel",
            "_view_count": null,
            "_view_module": "@jupyter-widgets/base",
            "_view_module_version": "1.2.0",
            "_view_name": "LayoutView",
            "align_content": null,
            "align_items": null,
            "align_self": null,
            "border": null,
            "bottom": null,
            "display": null,
            "flex": null,
            "flex_flow": null,
            "grid_area": null,
            "grid_auto_columns": null,
            "grid_auto_flow": null,
            "grid_auto_rows": null,
            "grid_column": null,
            "grid_gap": null,
            "grid_row": null,
            "grid_template_areas": null,
            "grid_template_columns": null,
            "grid_template_rows": null,
            "height": null,
            "justify_content": null,
            "justify_items": null,
            "left": null,
            "margin": null,
            "max_height": null,
            "max_width": null,
            "min_height": null,
            "min_width": null,
            "object_fit": null,
            "object_position": null,
            "order": null,
            "overflow": null,
            "overflow_x": null,
            "overflow_y": null,
            "padding": null,
            "right": null,
            "top": null,
            "visibility": null,
            "width": null
          }
        },
        "befaa06b17034a7b9cd9ed67e9a0f634": {
          "model_module": "@jupyter-widgets/controls",
          "model_name": "ProgressStyleModel",
          "model_module_version": "1.5.0",
          "state": {
            "_model_module": "@jupyter-widgets/controls",
            "_model_module_version": "1.5.0",
            "_model_name": "ProgressStyleModel",
            "_view_count": null,
            "_view_module": "@jupyter-widgets/base",
            "_view_module_version": "1.2.0",
            "_view_name": "StyleView",
            "bar_color": null,
            "description_width": ""
          }
        },
        "a1108c43c89b4779986e54679cf23733": {
          "model_module": "@jupyter-widgets/base",
          "model_name": "LayoutModel",
          "model_module_version": "1.2.0",
          "state": {
            "_model_module": "@jupyter-widgets/base",
            "_model_module_version": "1.2.0",
            "_model_name": "LayoutModel",
            "_view_count": null,
            "_view_module": "@jupyter-widgets/base",
            "_view_module_version": "1.2.0",
            "_view_name": "LayoutView",
            "align_content": null,
            "align_items": null,
            "align_self": null,
            "border": null,
            "bottom": null,
            "display": null,
            "flex": null,
            "flex_flow": null,
            "grid_area": null,
            "grid_auto_columns": null,
            "grid_auto_flow": null,
            "grid_auto_rows": null,
            "grid_column": null,
            "grid_gap": null,
            "grid_row": null,
            "grid_template_areas": null,
            "grid_template_columns": null,
            "grid_template_rows": null,
            "height": null,
            "justify_content": null,
            "justify_items": null,
            "left": null,
            "margin": null,
            "max_height": null,
            "max_width": null,
            "min_height": null,
            "min_width": null,
            "object_fit": null,
            "object_position": null,
            "order": null,
            "overflow": null,
            "overflow_x": null,
            "overflow_y": null,
            "padding": null,
            "right": null,
            "top": null,
            "visibility": null,
            "width": null
          }
        },
        "e8e2f99d02f04b8cb9d7ae4ba1877728": {
          "model_module": "@jupyter-widgets/controls",
          "model_name": "DescriptionStyleModel",
          "model_module_version": "1.5.0",
          "state": {
            "_model_module": "@jupyter-widgets/controls",
            "_model_module_version": "1.5.0",
            "_model_name": "DescriptionStyleModel",
            "_view_count": null,
            "_view_module": "@jupyter-widgets/base",
            "_view_module_version": "1.2.0",
            "_view_name": "StyleView",
            "description_width": ""
          }
        }
      }
    }
  },
  "cells": [
    {
      "cell_type": "markdown",
      "metadata": {
        "id": "view-in-github",
        "colab_type": "text"
      },
      "source": [
        "<a href=\"https://colab.research.google.com/github/ka-means/Process-Mining-/blob/main/Exploring_an_event_log_with_pm4py.ipynb\" target=\"_parent\"><img src=\"https://colab.research.google.com/assets/colab-badge.svg\" alt=\"Open In Colab\"/></a>"
      ]
    },
    {
      "cell_type": "markdown",
      "source": [
        "<p><img src=\"https://web-uc-prod.s3.amazonaws.com/img/logo-uc-chile.svg\" alt=\"logoUC\" width=\"40%\" align=\"right\" hspace=\"10px\" vspace=\"0px\"></p>\n",
        "\n",
        "**Autores:**\n",
        "* Luciano Hidalgo (lhidalgo1@uc.cl),\n",
        "* Ignacio Velásquez (iavelasquez@uc.cl)\n",
        "\n",
        "*Versión Original:*\n",
        "* Victor Gálvez (vagalvez@uc.cl)\n"
      ],
      "metadata": {
        "id": "0_XD2tEnM2aS"
      }
    },
    {
      "cell_type": "markdown",
      "source": [
        "# **EXPLORANDO UN EVENT LOG CON PM4PY**"
      ],
      "metadata": {
        "id": "agpSB7UAODtn"
      }
    },
    {
      "cell_type": "markdown",
      "source": [
        "Para correr este notebook se utilizan dos archivos correspondientes a un mismo log de eventos de Reparación de Vehículos:\n",
        "\n",
        "* Log de eventos en formato XES: <AGREGAR LINK>\n",
        "* Log de eventos en formato CSV: <AGREGAR LINK>\n",
        "\n",
        "Al correr el notebook de manera local, estos archivos deben ser descargados y ubicados en la misma carpeta del notebook. Sin embargo, si nos encontramos trabajando en Google Colab, la siguiente celda permite cargar los archivos directamente a la memoria de la sesión actual de Colab."
      ],
      "metadata": {
        "id": "LLUMwmRZP0wW"
      }
    },
    {
      "cell_type": "code",
      "execution_count": null,
      "metadata": {
        "id": "It5EYBVxMzTY",
        "colab": {
          "base_uri": "https://localhost:8080/"
        },
        "outputId": "1c4bb152-4208-4446-8d16-4c84b15bed13"
      },
      "outputs": [
        {
          "output_type": "stream",
          "name": "stdout",
          "text": [
            "Logs 'Reparacion de Vehiculos.xes' y 'Reparacion Vehiculos.csv' cargados.\n"
          ]
        }
      ],
      "source": [
        "from IPython.display import clear_output\n",
        "\n",
        "\n",
        "if 'google.colab' in str(get_ipython()):\n",
        "  # Log de eventos en formato XES\n",
        "  !gdown --id 12jaCdN3bF8kx2Sq1q86WlWLy5LrDFCeh\n",
        "\n",
        "  # Log de eventos en formato CSV\n",
        "  !gdown --id 12fURr7Z835K5v0Pbzz08j0KM8DHO0gVQ\n",
        "\n",
        "clear_output()\n",
        "print(\"Logs 'Reparacion de Vehiculos.xes' y 'Reparacion Vehiculos.csv' cargados.\")"
      ]
    },
    {
      "cell_type": "markdown",
      "source": [
        "## 1. Instalación y Documentación"
      ],
      "metadata": {
        "id": "sP9AfNVpQdhN"
      }
    },
    {
      "cell_type": "markdown",
      "source": [
        "### PM4Py"
      ],
      "metadata": {
        "id": "9U25VHEQUXfl"
      }
    },
    {
      "cell_type": "markdown",
      "source": [
        "Para instalar el módulo se utiliza el comando:\n",
        "\n",
        "    pip install pm4py"
      ],
      "metadata": {
        "id": "Z0c66OeqUPMC"
      }
    },
    {
      "cell_type": "code",
      "source": [
        "!pip install pm4py\n",
        "\n",
        "clear_output()\n",
        "print(\"PM4Py instalado.\")"
      ],
      "metadata": {
        "id": "iy8ErbpQU4tm",
        "colab": {
          "base_uri": "https://localhost:8080/"
        },
        "outputId": "8d402b37-c17e-4883-fc3d-1524995a74b9"
      },
      "execution_count": null,
      "outputs": [
        {
          "output_type": "stream",
          "name": "stdout",
          "text": [
            "PM4Py instalado.\n"
          ]
        }
      ]
    },
    {
      "cell_type": "markdown",
      "source": [
        "### Documentación"
      ],
      "metadata": {
        "id": "hsMiD5K4U7MG"
      }
    },
    {
      "cell_type": "markdown",
      "source": [
        "En caso de requerir más información para la instalación de PM4Py, se puede acceder al siguiente enlace: https://pm4py.fit.fraunhofer.de/static/assets/api/2.7.8/install.html\n",
        "\n",
        "La documentación oficial del módulo puede ser encontrada en: https://pm4py.fit.fraunhofer.de/static/assets/api/2.7.8/index.html\n",
        "\n",
        "El repositorio GitHub del módulo es: https://github.com/pm4py/pm4py-core"
      ],
      "metadata": {
        "id": "ZenGmI2fVBNz"
      }
    },
    {
      "cell_type": "markdown",
      "source": [
        "## 2. Lectura del Log de Eventos"
      ],
      "metadata": {
        "id": "2iEzQ8laWNms"
      }
    },
    {
      "cell_type": "markdown",
      "source": [
        "PM4Py puede leer logs de eventos en formato XES, u obtenerlos desde Dataframes generados por la librería Pandas (para leer logs de eventos en formato CSV):"
      ],
      "metadata": {
        "id": "zghUDXlfWTHu"
      }
    },
    {
      "cell_type": "markdown",
      "source": [
        "### Leer XES"
      ],
      "metadata": {
        "id": "JZsv8NASY_Kx"
      }
    },
    {
      "cell_type": "code",
      "source": [
        "import pm4py\n",
        "\n",
        "log_xes = pm4py.read_xes('reparacion_vehiculos.xes')"
      ],
      "metadata": {
        "id": "CyFccIUVY-sm",
        "colab": {
          "base_uri": "https://localhost:8080/",
          "height": 153,
          "referenced_widgets": [
            "71f20c1cc2304979b6d0f09c36395fa6",
            "7ab376f0ce754851acb127e6df3b3534",
            "e649f767d37c43309ff61be354eff185",
            "0d799965ab2c45e9a6108898a2718959",
            "e27729c7fa394ea2b98bf1d91f487ff1",
            "d1b16d47916c476d858146092057f2ff",
            "a2289a0722dc435aac61d1949089e854",
            "7980725818f84c468c2605ba232696ca",
            "befaa06b17034a7b9cd9ed67e9a0f634",
            "a1108c43c89b4779986e54679cf23733",
            "e8e2f99d02f04b8cb9d7ae4ba1877728"
          ]
        },
        "outputId": "d158d450-aeba-40dd-8d62-239fbfa7ed75"
      },
      "execution_count": null,
      "outputs": [
        {
          "output_type": "stream",
          "name": "stderr",
          "text": [
            "/usr/local/lib/python3.12/dist-packages/cudf/utils/gpu_utils.py:75: UserWarning: Failed to dlopen libcuda.so.1\n",
            "  warnings.warn(str(e))\n",
            "/usr/local/lib/python3.12/dist-packages/cudf/pandas/__init__.py:64: UserWarning: Function \"cuInit\" not found\n",
            "  warnings.warn(str(e))\n",
            "/usr/local/lib/python3.12/dist-packages/pm4py/utils.py:800: UserWarning: Install the optional requirement `rustxes` to import/export files faster.\n",
            "  warnings.warn(\"Install the optional requirement `rustxes` to import/export files faster.\")\n"
          ]
        },
        {
          "output_type": "display_data",
          "data": {
            "text/plain": [
              "parsing log, completed traces ::   0%|          | 0/938 [00:00<?, ?it/s]"
            ],
            "application/vnd.jupyter.widget-view+json": {
              "version_major": 2,
              "version_minor": 0,
              "model_id": "71f20c1cc2304979b6d0f09c36395fa6"
            }
          },
          "metadata": {}
        }
      ]
    },
    {
      "cell_type": "markdown",
      "source": [
        "Los logs de eventos en formato XES dividen las actividades en 'Start' y 'Complete' para representar el inicio y fin de cada una."
      ],
      "metadata": {
        "id": "8Hvlwq5RqHL2"
      }
    },
    {
      "cell_type": "code",
      "source": [
        "log_xes.head()"
      ],
      "metadata": {
        "colab": {
          "base_uri": "https://localhost:8080/",
          "height": 206
        },
        "id": "S8QWcLwqi0Yf",
        "outputId": "892db9d2-be2a-4a37-acc9-0eba93697521"
      },
      "execution_count": null,
      "outputs": [
        {
          "output_type": "execute_result",
          "data": {
            "text/plain": [
              "                   concept:name lifecycle:transition      time:timestamp  \\\n",
              "0              Recibir vehiculo                start 2023-07-17 08:00:20   \n",
              "1              Recibir vehiculo             complete 2023-07-17 08:15:21   \n",
              "2          Elaborar presupuesto                start 2023-07-17 08:34:30   \n",
              "3          Elaborar presupuesto             complete 2023-07-17 09:25:31   \n",
              "4  Enviar presupuesto a cliente                start 2023-07-17 09:45:16   \n",
              "\n",
              "                      Actividad  Ejecutor case:concept:name case:variant  \\\n",
              "0              Recibir vehiculo     Pablo                 1    Variant 3   \n",
              "1              Recibir vehiculo     Pablo                 1    Variant 3   \n",
              "2          Elaborar presupuesto     Norma                 1    Variant 3   \n",
              "3          Elaborar presupuesto     Norma                 1    Variant 3   \n",
              "4  Enviar presupuesto a cliente  Gabriela                 1    Variant 3   \n",
              "\n",
              "   case:variant-index    case:creator  \n",
              "0                   3  Fluxicon Disco  \n",
              "1                   3  Fluxicon Disco  \n",
              "2                   3  Fluxicon Disco  \n",
              "3                   3  Fluxicon Disco  \n",
              "4                   3  Fluxicon Disco  "
            ],
            "text/html": [
              "<div>\n",
              "<style scoped>\n",
              "    .dataframe tbody tr th:only-of-type {\n",
              "        vertical-align: middle;\n",
              "    }\n",
              "\n",
              "    .dataframe tbody tr th {\n",
              "        vertical-align: top;\n",
              "    }\n",
              "\n",
              "    .dataframe thead th {\n",
              "        text-align: right;\n",
              "    }\n",
              "</style>\n",
              "<table border=\"1\" class=\"dataframe\">\n",
              "  <thead>\n",
              "    <tr style=\"text-align: right;\">\n",
              "      <th></th>\n",
              "      <th>concept:name</th>\n",
              "      <th>lifecycle:transition</th>\n",
              "      <th>time:timestamp</th>\n",
              "      <th>Actividad</th>\n",
              "      <th>Ejecutor</th>\n",
              "      <th>case:concept:name</th>\n",
              "      <th>case:variant</th>\n",
              "      <th>case:variant-index</th>\n",
              "      <th>case:creator</th>\n",
              "    </tr>\n",
              "  </thead>\n",
              "  <tbody>\n",
              "    <tr>\n",
              "      <th>0</th>\n",
              "      <td>Recibir vehiculo</td>\n",
              "      <td>start</td>\n",
              "      <td>2023-07-17 08:00:20</td>\n",
              "      <td>Recibir vehiculo</td>\n",
              "      <td>Pablo</td>\n",
              "      <td>1</td>\n",
              "      <td>Variant 3</td>\n",
              "      <td>3</td>\n",
              "      <td>Fluxicon Disco</td>\n",
              "    </tr>\n",
              "    <tr>\n",
              "      <th>1</th>\n",
              "      <td>Recibir vehiculo</td>\n",
              "      <td>complete</td>\n",
              "      <td>2023-07-17 08:15:21</td>\n",
              "      <td>Recibir vehiculo</td>\n",
              "      <td>Pablo</td>\n",
              "      <td>1</td>\n",
              "      <td>Variant 3</td>\n",
              "      <td>3</td>\n",
              "      <td>Fluxicon Disco</td>\n",
              "    </tr>\n",
              "    <tr>\n",
              "      <th>2</th>\n",
              "      <td>Elaborar presupuesto</td>\n",
              "      <td>start</td>\n",
              "      <td>2023-07-17 08:34:30</td>\n",
              "      <td>Elaborar presupuesto</td>\n",
              "      <td>Norma</td>\n",
              "      <td>1</td>\n",
              "      <td>Variant 3</td>\n",
              "      <td>3</td>\n",
              "      <td>Fluxicon Disco</td>\n",
              "    </tr>\n",
              "    <tr>\n",
              "      <th>3</th>\n",
              "      <td>Elaborar presupuesto</td>\n",
              "      <td>complete</td>\n",
              "      <td>2023-07-17 09:25:31</td>\n",
              "      <td>Elaborar presupuesto</td>\n",
              "      <td>Norma</td>\n",
              "      <td>1</td>\n",
              "      <td>Variant 3</td>\n",
              "      <td>3</td>\n",
              "      <td>Fluxicon Disco</td>\n",
              "    </tr>\n",
              "    <tr>\n",
              "      <th>4</th>\n",
              "      <td>Enviar presupuesto a cliente</td>\n",
              "      <td>start</td>\n",
              "      <td>2023-07-17 09:45:16</td>\n",
              "      <td>Enviar presupuesto a cliente</td>\n",
              "      <td>Gabriela</td>\n",
              "      <td>1</td>\n",
              "      <td>Variant 3</td>\n",
              "      <td>3</td>\n",
              "      <td>Fluxicon Disco</td>\n",
              "    </tr>\n",
              "  </tbody>\n",
              "</table>\n",
              "</div>"
            ],
            "application/vnd.google.colaboratory.intrinsic+json": {
              "type": "dataframe",
              "variable_name": "log_xes",
              "summary": "{\n  \"name\": \"log_xes\",\n  \"rows\": 18194,\n  \"fields\": [\n    {\n      \"column\": \"concept:name\",\n      \"properties\": {\n        \"dtype\": \"category\",\n        \"num_unique_values\": 12,\n        \"samples\": [\n          \"Pintar vehiculo\",\n          \"Instalar repuestos\",\n          \"Recibir vehiculo\"\n        ],\n        \"semantic_type\": \"\",\n        \"description\": \"\"\n      }\n    },\n    {\n      \"column\": \"lifecycle:transition\",\n      \"properties\": {\n        \"dtype\": \"category\",\n        \"num_unique_values\": 2,\n        \"samples\": [\n          \"complete\",\n          \"start\"\n        ],\n        \"semantic_type\": \"\",\n        \"description\": \"\"\n      }\n    },\n    {\n      \"column\": \"time:timestamp\",\n      \"properties\": {\n        \"dtype\": \"date\",\n        \"min\": \"2023-07-17 08:00:20\",\n        \"max\": \"2023-10-12 23:36:59\",\n        \"num_unique_values\": 16484,\n        \"samples\": [\n          \"2023-07-26 16:22:34\",\n          \"2023-07-28 09:43:39\"\n        ],\n        \"semantic_type\": \"\",\n        \"description\": \"\"\n      }\n    },\n    {\n      \"column\": \"Actividad\",\n      \"properties\": {\n        \"dtype\": \"category\",\n        \"num_unique_values\": 12,\n        \"samples\": [\n          \"Pintar vehiculo\",\n          \"Instalar repuestos\"\n        ],\n        \"semantic_type\": \"\",\n        \"description\": \"\"\n      }\n    },\n    {\n      \"column\": \"Ejecutor\",\n      \"properties\": {\n        \"dtype\": \"category\",\n        \"num_unique_values\": 14,\n        \"samples\": [\n          \"Pedro\",\n          \"Victor\"\n        ],\n        \"semantic_type\": \"\",\n        \"description\": \"\"\n      }\n    },\n    {\n      \"column\": \"case:concept:name\",\n      \"properties\": {\n        \"dtype\": \"category\",\n        \"num_unique_values\": 938,\n        \"samples\": [\n          \"71\",\n          \"332\"\n        ],\n        \"semantic_type\": \"\",\n        \"description\": \"\"\n      }\n    },\n    {\n      \"column\": \"case:variant\",\n      \"properties\": {\n        \"dtype\": \"category\",\n        \"num_unique_values\": 51,\n        \"samples\": [\n          \"Variant 49\",\n          \"Variant 26\"\n        ],\n        \"semantic_type\": \"\",\n        \"description\": \"\"\n      }\n    },\n    {\n      \"column\": \"case:variant-index\",\n      \"properties\": {\n        \"dtype\": \"number\",\n        \"std\": 8,\n        \"min\": 1,\n        \"max\": 51,\n        \"num_unique_values\": 51,\n        \"samples\": [\n          49,\n          26\n        ],\n        \"semantic_type\": \"\",\n        \"description\": \"\"\n      }\n    },\n    {\n      \"column\": \"case:creator\",\n      \"properties\": {\n        \"dtype\": \"category\",\n        \"num_unique_values\": 1,\n        \"samples\": [\n          \"Fluxicon Disco\"\n        ],\n        \"semantic_type\": \"\",\n        \"description\": \"\"\n      }\n    }\n  ]\n}"
            }
          },
          "metadata": {},
          "execution_count": 4
        }
      ]
    },
    {
      "cell_type": "markdown",
      "source": [
        "### Leer CSV"
      ],
      "metadata": {
        "id": "CZJG4P8JZici"
      }
    },
    {
      "cell_type": "code",
      "source": [
        "import pandas as pd\n",
        "\n",
        "log_csv = pd.read_csv('reparacion_vehiculos.csv', sep = ';')\n",
        "\n",
        "log_csv = pm4py.format_dataframe(log_csv,\n",
        "                                case_id='ID Caso',\n",
        "                                activity_key='Actividad',\n",
        "                                timestamp_key='Fin',\n",
        "                                timest_format  = '%Y-%m-%d %H:%M:%S')"
      ],
      "metadata": {
        "id": "d-IL_dB7hmab"
      },
      "execution_count": null,
      "outputs": []
    },
    {
      "cell_type": "code",
      "source": [
        "log_csv.head()"
      ],
      "metadata": {
        "colab": {
          "base_uri": "https://localhost:8080/",
          "height": 206
        },
        "id": "sAI5NccgiBEU",
        "outputId": "fb13c0e0-b0de-4a88-d922-aa33dca41dbe"
      },
      "execution_count": null,
      "outputs": [
        {
          "output_type": "execute_result",
          "data": {
            "text/plain": [
              "   ID Caso                     Actividad              Inicio  \\\n",
              "0        1              Recibir vehiculo 2023-07-17 08:00:20   \n",
              "1        1          Elaborar presupuesto 2023-07-17 08:34:30   \n",
              "2        1  Enviar presupuesto a cliente 2023-07-17 09:45:16   \n",
              "3        1             Recibir respuesta 2023-07-17 11:34:47   \n",
              "4        1              Coordinar retiro 2023-07-18 08:06:42   \n",
              "\n",
              "                  Fin  Ejecutor case:concept:name  \\\n",
              "0 2023-07-17 08:15:21     Pablo                 1   \n",
              "1 2023-07-17 09:25:31     Norma                 1   \n",
              "2 2023-07-17 09:50:25  Gabriela                 1   \n",
              "3 2023-07-17 11:34:47  Gabriela                 1   \n",
              "4 2023-07-18 08:20:18  Gabriela                 1   \n",
              "\n",
              "                   concept:name      time:timestamp  @@index  @@case_index  \n",
              "0              Recibir vehiculo 2023-07-17 08:15:21        0             0  \n",
              "1          Elaborar presupuesto 2023-07-17 09:25:31        1             0  \n",
              "2  Enviar presupuesto a cliente 2023-07-17 09:50:25        2             0  \n",
              "3             Recibir respuesta 2023-07-17 11:34:47        3             0  \n",
              "4              Coordinar retiro 2023-07-18 08:20:18        4             0  "
            ],
            "text/html": [
              "<div>\n",
              "<style scoped>\n",
              "    .dataframe tbody tr th:only-of-type {\n",
              "        vertical-align: middle;\n",
              "    }\n",
              "\n",
              "    .dataframe tbody tr th {\n",
              "        vertical-align: top;\n",
              "    }\n",
              "\n",
              "    .dataframe thead th {\n",
              "        text-align: right;\n",
              "    }\n",
              "</style>\n",
              "<table border=\"1\" class=\"dataframe\">\n",
              "  <thead>\n",
              "    <tr style=\"text-align: right;\">\n",
              "      <th></th>\n",
              "      <th>ID Caso</th>\n",
              "      <th>Actividad</th>\n",
              "      <th>Inicio</th>\n",
              "      <th>Fin</th>\n",
              "      <th>Ejecutor</th>\n",
              "      <th>case:concept:name</th>\n",
              "      <th>concept:name</th>\n",
              "      <th>time:timestamp</th>\n",
              "      <th>@@index</th>\n",
              "      <th>@@case_index</th>\n",
              "    </tr>\n",
              "  </thead>\n",
              "  <tbody>\n",
              "    <tr>\n",
              "      <th>0</th>\n",
              "      <td>1</td>\n",
              "      <td>Recibir vehiculo</td>\n",
              "      <td>2023-07-17 08:00:20</td>\n",
              "      <td>2023-07-17 08:15:21</td>\n",
              "      <td>Pablo</td>\n",
              "      <td>1</td>\n",
              "      <td>Recibir vehiculo</td>\n",
              "      <td>2023-07-17 08:15:21</td>\n",
              "      <td>0</td>\n",
              "      <td>0</td>\n",
              "    </tr>\n",
              "    <tr>\n",
              "      <th>1</th>\n",
              "      <td>1</td>\n",
              "      <td>Elaborar presupuesto</td>\n",
              "      <td>2023-07-17 08:34:30</td>\n",
              "      <td>2023-07-17 09:25:31</td>\n",
              "      <td>Norma</td>\n",
              "      <td>1</td>\n",
              "      <td>Elaborar presupuesto</td>\n",
              "      <td>2023-07-17 09:25:31</td>\n",
              "      <td>1</td>\n",
              "      <td>0</td>\n",
              "    </tr>\n",
              "    <tr>\n",
              "      <th>2</th>\n",
              "      <td>1</td>\n",
              "      <td>Enviar presupuesto a cliente</td>\n",
              "      <td>2023-07-17 09:45:16</td>\n",
              "      <td>2023-07-17 09:50:25</td>\n",
              "      <td>Gabriela</td>\n",
              "      <td>1</td>\n",
              "      <td>Enviar presupuesto a cliente</td>\n",
              "      <td>2023-07-17 09:50:25</td>\n",
              "      <td>2</td>\n",
              "      <td>0</td>\n",
              "    </tr>\n",
              "    <tr>\n",
              "      <th>3</th>\n",
              "      <td>1</td>\n",
              "      <td>Recibir respuesta</td>\n",
              "      <td>2023-07-17 11:34:47</td>\n",
              "      <td>2023-07-17 11:34:47</td>\n",
              "      <td>Gabriela</td>\n",
              "      <td>1</td>\n",
              "      <td>Recibir respuesta</td>\n",
              "      <td>2023-07-17 11:34:47</td>\n",
              "      <td>3</td>\n",
              "      <td>0</td>\n",
              "    </tr>\n",
              "    <tr>\n",
              "      <th>4</th>\n",
              "      <td>1</td>\n",
              "      <td>Coordinar retiro</td>\n",
              "      <td>2023-07-18 08:06:42</td>\n",
              "      <td>2023-07-18 08:20:18</td>\n",
              "      <td>Gabriela</td>\n",
              "      <td>1</td>\n",
              "      <td>Coordinar retiro</td>\n",
              "      <td>2023-07-18 08:20:18</td>\n",
              "      <td>4</td>\n",
              "      <td>0</td>\n",
              "    </tr>\n",
              "  </tbody>\n",
              "</table>\n",
              "</div>"
            ],
            "application/vnd.google.colaboratory.intrinsic+json": {
              "type": "dataframe",
              "variable_name": "log_csv",
              "summary": "{\n  \"name\": \"log_csv\",\n  \"rows\": 9538,\n  \"fields\": [\n    {\n      \"column\": \"ID Caso\",\n      \"properties\": {\n        \"dtype\": \"number\",\n        \"std\": 253,\n        \"min\": 1,\n        \"max\": 938,\n        \"num_unique_values\": 938,\n        \"samples\": [\n          162,\n          398,\n          872\n        ],\n        \"semantic_type\": \"\",\n        \"description\": \"\"\n      }\n    },\n    {\n      \"column\": \"Actividad\",\n      \"properties\": {\n        \"dtype\": \"category\",\n        \"num_unique_values\": 12,\n        \"samples\": [\n          \"Pintar vehiculo\",\n          \"Instalar repuestos\",\n          \"Recibir vehiculo\"\n        ],\n        \"semantic_type\": \"\",\n        \"description\": \"\"\n      }\n    },\n    {\n      \"column\": \"Inicio\",\n      \"properties\": {\n        \"dtype\": \"date\",\n        \"min\": \"2023-07-17 08:00:20\",\n        \"max\": \"2023-10-12 23:36:59\",\n        \"num_unique_values\": 7877,\n        \"samples\": [\n          \"2023-08-10 14:51:04\",\n          \"2023-08-09 11:28:18\",\n          \"2023-08-23 11:02:54\"\n        ],\n        \"semantic_type\": \"\",\n        \"description\": \"\"\n      }\n    },\n    {\n      \"column\": \"Fin\",\n      \"properties\": {\n        \"dtype\": \"date\",\n        \"min\": \"2023-07-17 08:15:21\",\n        \"max\": \"2023-10-12 23:36:59\",\n        \"num_unique_values\": 9515,\n        \"samples\": [\n          \"2023-08-15 17:53:43\",\n          \"2023-08-08 11:00:30\",\n          \"2023-09-27 16:29:24\"\n        ],\n        \"semantic_type\": \"\",\n        \"description\": \"\"\n      }\n    },\n    {\n      \"column\": \"Ejecutor\",\n      \"properties\": {\n        \"dtype\": \"category\",\n        \"num_unique_values\": 14,\n        \"samples\": [\n          \"Isabel\",\n          \"Jose\",\n          \"Pablo\"\n        ],\n        \"semantic_type\": \"\",\n        \"description\": \"\"\n      }\n    },\n    {\n      \"column\": \"case:concept:name\",\n      \"properties\": {\n        \"dtype\": \"string\",\n        \"num_unique_values\": 938,\n        \"samples\": [\n          \"162\",\n          \"398\",\n          \"872\"\n        ],\n        \"semantic_type\": \"\",\n        \"description\": \"\"\n      }\n    },\n    {\n      \"column\": \"concept:name\",\n      \"properties\": {\n        \"dtype\": \"string\",\n        \"num_unique_values\": 12,\n        \"samples\": [\n          \"Pintar vehiculo\",\n          \"Instalar repuestos\",\n          \"Recibir vehiculo\"\n        ],\n        \"semantic_type\": \"\",\n        \"description\": \"\"\n      }\n    },\n    {\n      \"column\": \"time:timestamp\",\n      \"properties\": {\n        \"dtype\": \"date\",\n        \"min\": \"2023-07-17 08:15:21\",\n        \"max\": \"2023-10-12 23:36:59\",\n        \"num_unique_values\": 9515,\n        \"samples\": [\n          \"2023-08-15 17:53:43\",\n          \"2023-08-08 11:00:30\",\n          \"2023-09-27 16:29:24\"\n        ],\n        \"semantic_type\": \"\",\n        \"description\": \"\"\n      }\n    },\n    {\n      \"column\": \"@@index\",\n      \"properties\": {\n        \"dtype\": \"number\",\n        \"std\": 2753,\n        \"min\": 0,\n        \"max\": 9537,\n        \"num_unique_values\": 9538,\n        \"samples\": [\n          5404,\n          5857,\n          8275\n        ],\n        \"semantic_type\": \"\",\n        \"description\": \"\"\n      }\n    },\n    {\n      \"column\": \"@@case_index\",\n      \"properties\": {\n        \"dtype\": \"number\",\n        \"std\": 256,\n        \"min\": 0,\n        \"max\": 937,\n        \"num_unique_values\": 938,\n        \"samples\": [\n          70,\n          331,\n          858\n        ],\n        \"semantic_type\": \"\",\n        \"description\": \"\"\n      }\n    }\n  ]\n}"
            }
          },
          "metadata": {},
          "execution_count": 6
        }
      ]
    },
    {
      "cell_type": "markdown",
      "source": [
        "# 3. Exploración del *event log*"
      ],
      "metadata": {
        "id": "xXa2Jb4Rbt6x"
      }
    },
    {
      "cell_type": "markdown",
      "source": [
        "En esta sección se dará respuesta a algunas de las preguntas frecuentes al momento de analizar un log de eventos."
      ],
      "metadata": {
        "id": "FxblN-6oYYvX"
      }
    },
    {
      "cell_type": "markdown",
      "source": [
        "### ¿Cuántas ejecuciones del proceso (casos) contiene el log de eventos?"
      ],
      "metadata": {
        "id": "WoxKqxUIYqbk"
      }
    },
    {
      "cell_type": "markdown",
      "source": [
        "Para contestar la pregunta, se puede consultar la cantidad de valores únicos que contiene la columna que contiene el ID de caso:\n",
        "\n",
        "```python\n",
        "len(set(log_de_eventos['case:concept:name']))\n",
        "```\n",
        "\n",
        "Esto transforma toda la columna CASE ID del log de eventos en un conjunto, lo que elimina las entradas duplicadas."
      ],
      "metadata": {
        "id": "OIgMDy_YY0Tc"
      }
    },
    {
      "cell_type": "code",
      "source": [
        "print(\"Cantidad de casos en el log de eventos: \" + str(len(set(log_csv['case:concept:name']))))"
      ],
      "metadata": {
        "id": "5G-kXUuAZFSt",
        "colab": {
          "base_uri": "https://localhost:8080/"
        },
        "outputId": "1a6c2a21-9742-4adb-f8dd-77ff0a276064"
      },
      "execution_count": null,
      "outputs": [
        {
          "output_type": "stream",
          "name": "stdout",
          "text": [
            "Cantidad de casos en el log de eventos: 938\n"
          ]
        }
      ]
    },
    {
      "cell_type": "markdown",
      "source": [
        "### ¿Cuáles son las actividades que se realizan más y menos a menudo?"
      ],
      "metadata": {
        "id": "NJ0HEocaZfyD"
      }
    },
    {
      "cell_type": "markdown",
      "source": [
        "Para contestar la pregunta, se puede obtener un diccionario incluyendo la frecuencia de todas las actividades a través de las funciones de PM4Py:\n",
        "\n",
        "\n",
        "```python\n",
        "pm4py.stats.get_event_attribute_values(log_de_eventos, 'concept:name')\n",
        "```  \n"
      ],
      "metadata": {
        "id": "TysimFQVZ95A"
      }
    },
    {
      "cell_type": "code",
      "source": [
        "actividades = pm4py.stats.get_event_attribute_values(log_csv, 'concept:name')\n",
        "\n",
        "actividades"
      ],
      "metadata": {
        "colab": {
          "base_uri": "https://localhost:8080/"
        },
        "id": "QyG9JH74chu_",
        "outputId": "b3ebcbbc-81a1-42a1-ba3f-bfb031ba6ca1"
      },
      "execution_count": null,
      "outputs": [
        {
          "output_type": "execute_result",
          "data": {
            "text/plain": [
              "{'Recibir vehiculo': 938,\n",
              " 'Elaborar presupuesto': 938,\n",
              " 'Enviar presupuesto a cliente': 938,\n",
              " 'Comprar repuestos': 888,\n",
              " 'Recibir respuesta': 882,\n",
              " 'Recibir repuestos': 867,\n",
              " 'Restaurar danos': 800,\n",
              " 'Instalar repuestos': 797,\n",
              " 'Pintar vehiculo': 790,\n",
              " 'Probar vehiculo': 790,\n",
              " 'Entregar vehiculo': 783,\n",
              " 'Coordinar retiro': 127}"
            ]
          },
          "metadata": {},
          "execution_count": 8
        }
      ]
    },
    {
      "cell_type": "markdown",
      "source": [
        "### ¿Cuáles son los ejecutores que participan realizando más y menos actividades?"
      ],
      "metadata": {
        "id": "DZH-OAaefuZY"
      }
    },
    {
      "cell_type": "markdown",
      "source": [
        "Para contestar la pregunta, se pueden utilizar nuevamente las funciones de PM4Py, pero esta vez consultando por la columna 'Ejecutor':\n",
        "\n",
        "```python\n",
        "pm4py.stats.get_event_attribute_values(log_de_eventos, 'Ejecutor')\n",
        "```\n",
        "\n",
        "A continuación se provee una función que hace uso de lo anterior para retornar un Dataframe de Pandas con los ejecutores ordenados de mayor a menor participación.\n"
      ],
      "metadata": {
        "id": "p1oHpPP2f4nj"
      }
    },
    {
      "cell_type": "code",
      "source": [
        "ejecutores = pm4py.stats.get_event_attribute_values(log_csv, 'Ejecutor')\n",
        "ejecutores"
      ],
      "metadata": {
        "colab": {
          "base_uri": "https://localhost:8080/"
        },
        "id": "gvvOKrpjc8W6",
        "outputId": "efee8474-a283-45e0-a226-f3d661e2d1b1"
      },
      "execution_count": null,
      "outputs": [
        {
          "output_type": "execute_result",
          "data": {
            "text/plain": [
              "{'Violeta': 1755,\n",
              " 'Pablo': 1721,\n",
              " 'Daniela': 988,\n",
              " 'Gabriela': 959,\n",
              " 'Roberto': 447,\n",
              " 'Bernardo': 439,\n",
              " 'Norma': 433,\n",
              " 'Victor': 422,\n",
              " 'Alejandro': 409,\n",
              " 'Arturo': 407,\n",
              " 'Pedro': 403,\n",
              " 'Isabel': 395,\n",
              " 'Mario': 386,\n",
              " 'Jose': 374}"
            ]
          },
          "metadata": {},
          "execution_count": 9
        }
      ]
    },
    {
      "cell_type": "markdown",
      "source": [
        "### ¿Con qué actividades inicia y termina el proceso?"
      ],
      "metadata": {
        "id": "cBNN8uZ1kGnp"
      }
    },
    {
      "cell_type": "markdown",
      "source": [
        "Para contestar a esta pregunta, el mismo módulo nos provee de dos funciones:\n",
        "\n",
        "\n",
        "\n",
        "```python\n",
        "pm4py.stats.get_start_activities(log_de_eventos)\n",
        "pm4py.stats.get_end_activities(log_de_eventos)\n",
        "```\n",
        "\n",
        "\n",
        "\n",
        "La primera nos retorna un diccionario con las actividades de inicio y la segunda con las actividades de fin.\n",
        "\n",
        "A continuación se proveen funciones que permiten obtenerlas en un formato de Dataframe de Pandas."
      ],
      "metadata": {
        "id": "2Ddn0Rx_kLXL"
      }
    },
    {
      "cell_type": "code",
      "source": [
        "actividades_de_inicio = pm4py.stats.get_start_activities(log_csv)\n",
        "actividades_de_inicio"
      ],
      "metadata": {
        "colab": {
          "base_uri": "https://localhost:8080/"
        },
        "id": "Axb4h0ntdFu0",
        "outputId": "a9eddcc0-ffec-4976-b10c-4c50da0b4c6a"
      },
      "execution_count": null,
      "outputs": [
        {
          "output_type": "execute_result",
          "data": {
            "text/plain": [
              "{'Recibir vehiculo': 938}"
            ]
          },
          "metadata": {},
          "execution_count": 10
        }
      ]
    },
    {
      "cell_type": "code",
      "source": [
        "actividades_de_fin = pm4py.stats.get_end_activities(log_csv)\n",
        "actividades_de_fin"
      ],
      "metadata": {
        "colab": {
          "base_uri": "https://localhost:8080/"
        },
        "id": "azNte6OJdiKz",
        "outputId": "7e10b419-169a-489e-f8a1-f152427f4675"
      },
      "execution_count": null,
      "outputs": [
        {
          "output_type": "execute_result",
          "data": {
            "text/plain": [
              "{'Entregar vehiculo': 783,\n",
              " 'Probar vehiculo': 23,\n",
              " 'Recibir repuestos': 72,\n",
              " 'Instalar repuestos': 5,\n",
              " 'Restaurar danos': 6,\n",
              " 'Comprar repuestos': 19,\n",
              " 'Coordinar retiro': 7,\n",
              " 'Recibir respuesta': 10,\n",
              " 'Enviar presupuesto a cliente': 13}"
            ]
          },
          "metadata": {},
          "execution_count": 11
        }
      ]
    },
    {
      "cell_type": "markdown",
      "source": [
        "### ¿Cuántas variantes existen?"
      ],
      "metadata": {
        "id": "bbbzeSYymcyD"
      }
    },
    {
      "cell_type": "markdown",
      "source": [
        "Para responder esta pregunta pm4py nos provee con la función:\n",
        "\n",
        "```python\n",
        "pm4py.stats.get_variants(log_de_eventos)\n",
        "```\n",
        "La cuál recibe como entrada un log de eventos y retorna como resultado un diccionario, donde la clave es una tupla, que representa la secuencia de actividades y el valor es la cantidad de veces que aparece dicha variante en el log.\n"
      ],
      "metadata": {
        "id": "Ysv3yvdxjEzS"
      }
    },
    {
      "cell_type": "code",
      "source": [
        "variantes = pm4py.stats.get_variants(log_csv)\n",
        "variantes"
      ],
      "metadata": {
        "colab": {
          "base_uri": "https://localhost:8080/"
        },
        "id": "NhFDhyJPehPf",
        "outputId": "f3c7c8e0-2c8e-466f-a5bc-679adc1fa90b"
      },
      "execution_count": null,
      "outputs": [
        {
          "output_type": "execute_result",
          "data": {
            "text/plain": [
              "{('Recibir vehiculo',\n",
              "  'Elaborar presupuesto',\n",
              "  'Enviar presupuesto a cliente',\n",
              "  'Recibir respuesta',\n",
              "  'Coordinar retiro',\n",
              "  'Entregar vehiculo'): 78,\n",
              " ('Recibir vehiculo',\n",
              "  'Elaborar presupuesto',\n",
              "  'Enviar presupuesto a cliente',\n",
              "  'Recibir respuesta',\n",
              "  'Restaurar danos',\n",
              "  'Comprar repuestos',\n",
              "  'Recibir repuestos',\n",
              "  'Instalar repuestos',\n",
              "  'Pintar vehiculo',\n",
              "  'Probar vehiculo',\n",
              "  'Entregar vehiculo'): 55,\n",
              " ('Recibir vehiculo',\n",
              "  'Elaborar presupuesto',\n",
              "  'Enviar presupuesto a cliente',\n",
              "  'Recibir respuesta',\n",
              "  'Comprar repuestos',\n",
              "  'Restaurar danos',\n",
              "  'Recibir repuestos',\n",
              "  'Instalar repuestos',\n",
              "  'Pintar vehiculo',\n",
              "  'Probar vehiculo',\n",
              "  'Entregar vehiculo'): 78,\n",
              " ('Recibir vehiculo',\n",
              "  'Elaborar presupuesto',\n",
              "  'Enviar presupuesto a cliente',\n",
              "  'Recibir respuesta',\n",
              "  'Comprar repuestos',\n",
              "  'Recibir repuestos',\n",
              "  'Restaurar danos',\n",
              "  'Instalar repuestos',\n",
              "  'Pintar vehiculo',\n",
              "  'Probar vehiculo',\n",
              "  'Entregar vehiculo'): 236,\n",
              " ('Recibir vehiculo',\n",
              "  'Elaborar presupuesto',\n",
              "  'Enviar presupuesto a cliente',\n",
              "  'Recibir respuesta',\n",
              "  'Comprar repuestos',\n",
              "  'Recibir repuestos',\n",
              "  'Instalar repuestos',\n",
              "  'Restaurar danos',\n",
              "  'Pintar vehiculo',\n",
              "  'Probar vehiculo',\n",
              "  'Entregar vehiculo'): 216,\n",
              " ('Recibir vehiculo',\n",
              "  'Elaborar presupuesto',\n",
              "  'Enviar presupuesto a cliente',\n",
              "  'Recibir respuesta',\n",
              "  'Restaurar danos',\n",
              "  'Comprar repuestos',\n",
              "  'Recibir repuestos',\n",
              "  'Instalar repuestos',\n",
              "  'Pintar vehiculo',\n",
              "  'Probar vehiculo',\n",
              "  'Comprar repuestos',\n",
              "  'Restaurar danos',\n",
              "  'Recibir repuestos',\n",
              "  'Instalar repuestos',\n",
              "  'Pintar vehiculo',\n",
              "  'Probar vehiculo',\n",
              "  'Entregar vehiculo'): 1,\n",
              " ('Recibir vehiculo',\n",
              "  'Elaborar presupuesto',\n",
              "  'Enviar presupuesto a cliente',\n",
              "  'Recibir respuesta',\n",
              "  'Comprar repuestos',\n",
              "  'Restaurar danos',\n",
              "  'Recibir repuestos',\n",
              "  'Instalar repuestos',\n",
              "  'Pintar vehiculo',\n",
              "  'Probar vehiculo',\n",
              "  'Restaurar danos',\n",
              "  'Instalar repuestos',\n",
              "  'Pintar vehiculo',\n",
              "  'Probar vehiculo',\n",
              "  'Comprar repuestos',\n",
              "  'Restaurar danos',\n",
              "  'Recibir repuestos',\n",
              "  'Instalar repuestos',\n",
              "  'Pintar vehiculo',\n",
              "  'Probar vehiculo',\n",
              "  'Entregar vehiculo'): 1,\n",
              " ('Recibir vehiculo',\n",
              "  'Elaborar presupuesto',\n",
              "  'Enviar presupuesto a cliente',\n",
              "  'Recibir respuesta',\n",
              "  'Comprar repuestos',\n",
              "  'Restaurar danos',\n",
              "  'Recibir repuestos',\n",
              "  'Instalar repuestos',\n",
              "  'Pintar vehiculo',\n",
              "  'Probar vehiculo',\n",
              "  'Comprar repuestos',\n",
              "  'Restaurar danos',\n",
              "  'Recibir repuestos',\n",
              "  'Instalar repuestos',\n",
              "  'Pintar vehiculo',\n",
              "  'Probar vehiculo',\n",
              "  'Entregar vehiculo'): 5,\n",
              " ('Recibir vehiculo',\n",
              "  'Elaborar presupuesto',\n",
              "  'Enviar presupuesto a cliente',\n",
              "  'Recibir respuesta',\n",
              "  'Comprar repuestos',\n",
              "  'Recibir repuestos',\n",
              "  'Restaurar danos',\n",
              "  'Instalar repuestos',\n",
              "  'Pintar vehiculo',\n",
              "  'Probar vehiculo',\n",
              "  'Restaurar danos',\n",
              "  'Comprar repuestos',\n",
              "  'Recibir repuestos',\n",
              "  'Instalar repuestos',\n",
              "  'Pintar vehiculo',\n",
              "  'Probar vehiculo',\n",
              "  'Restaurar danos',\n",
              "  'Comprar repuestos',\n",
              "  'Recibir repuestos',\n",
              "  'Instalar repuestos',\n",
              "  'Pintar vehiculo',\n",
              "  'Probar vehiculo',\n",
              "  'Restaurar danos',\n",
              "  'Comprar repuestos',\n",
              "  'Recibir repuestos',\n",
              "  'Instalar repuestos',\n",
              "  'Pintar vehiculo',\n",
              "  'Probar vehiculo',\n",
              "  'Entregar vehiculo'): 1,\n",
              " ('Recibir vehiculo',\n",
              "  'Elaborar presupuesto',\n",
              "  'Enviar presupuesto a cliente',\n",
              "  'Recibir respuesta',\n",
              "  'Comprar repuestos',\n",
              "  'Restaurar danos',\n",
              "  'Recibir repuestos',\n",
              "  'Instalar repuestos',\n",
              "  'Pintar vehiculo',\n",
              "  'Probar vehiculo',\n",
              "  'Restaurar danos',\n",
              "  'Comprar repuestos',\n",
              "  'Recibir repuestos',\n",
              "  'Instalar repuestos',\n",
              "  'Pintar vehiculo',\n",
              "  'Probar vehiculo',\n",
              "  'Entregar vehiculo'): 1,\n",
              " ('Recibir vehiculo',\n",
              "  'Elaborar presupuesto',\n",
              "  'Enviar presupuesto a cliente',\n",
              "  'Coordinar retiro',\n",
              "  'Entregar vehiculo'): 42,\n",
              " ('Recibir vehiculo',\n",
              "  'Elaborar presupuesto',\n",
              "  'Enviar presupuesto a cliente',\n",
              "  'Recibir respuesta',\n",
              "  'Comprar repuestos',\n",
              "  'Restaurar danos',\n",
              "  'Recibir repuestos',\n",
              "  'Instalar repuestos',\n",
              "  'Pintar vehiculo',\n",
              "  'Probar vehiculo',\n",
              "  'Instalar repuestos',\n",
              "  'Restaurar danos',\n",
              "  'Pintar vehiculo',\n",
              "  'Probar vehiculo',\n",
              "  'Entregar vehiculo'): 1,\n",
              " ('Recibir vehiculo',\n",
              "  'Elaborar presupuesto',\n",
              "  'Enviar presupuesto a cliente',\n",
              "  'Recibir respuesta',\n",
              "  'Comprar repuestos',\n",
              "  'Recibir repuestos',\n",
              "  'Instalar repuestos',\n",
              "  'Restaurar danos',\n",
              "  'Pintar vehiculo',\n",
              "  'Probar vehiculo',\n",
              "  'Comprar repuestos',\n",
              "  'Recibir repuestos',\n",
              "  'Instalar repuestos',\n",
              "  'Restaurar danos',\n",
              "  'Pintar vehiculo',\n",
              "  'Probar vehiculo',\n",
              "  'Entregar vehiculo'): 3,\n",
              " ('Recibir vehiculo',\n",
              "  'Elaborar presupuesto',\n",
              "  'Enviar presupuesto a cliente',\n",
              "  'Recibir respuesta',\n",
              "  'Comprar repuestos',\n",
              "  'Recibir repuestos',\n",
              "  'Restaurar danos',\n",
              "  'Instalar repuestos',\n",
              "  'Pintar vehiculo',\n",
              "  'Probar vehiculo',\n",
              "  'Restaurar danos',\n",
              "  'Comprar repuestos',\n",
              "  'Recibir repuestos',\n",
              "  'Instalar repuestos',\n",
              "  'Pintar vehiculo',\n",
              "  'Probar vehiculo',\n",
              "  'Entregar vehiculo'): 14,\n",
              " ('Recibir vehiculo',\n",
              "  'Elaborar presupuesto',\n",
              "  'Enviar presupuesto a cliente',\n",
              "  'Recibir respuesta',\n",
              "  'Comprar repuestos',\n",
              "  'Recibir repuestos',\n",
              "  'Instalar repuestos',\n",
              "  'Restaurar danos',\n",
              "  'Pintar vehiculo',\n",
              "  'Probar vehiculo',\n",
              "  'Comprar repuestos',\n",
              "  'Recibir repuestos',\n",
              "  'Restaurar danos',\n",
              "  'Instalar repuestos',\n",
              "  'Pintar vehiculo',\n",
              "  'Probar vehiculo',\n",
              "  'Entregar vehiculo'): 2,\n",
              " ('Recibir vehiculo',\n",
              "  'Elaborar presupuesto',\n",
              "  'Enviar presupuesto a cliente',\n",
              "  'Recibir respuesta',\n",
              "  'Restaurar danos',\n",
              "  'Comprar repuestos',\n",
              "  'Recibir repuestos',\n",
              "  'Instalar repuestos',\n",
              "  'Pintar vehiculo',\n",
              "  'Probar vehiculo',\n",
              "  'Restaurar danos',\n",
              "  'Comprar repuestos',\n",
              "  'Recibir repuestos',\n",
              "  'Instalar repuestos',\n",
              "  'Pintar vehiculo',\n",
              "  'Probar vehiculo',\n",
              "  'Entregar vehiculo'): 2,\n",
              " ('Recibir vehiculo',\n",
              "  'Elaborar presupuesto',\n",
              "  'Enviar presupuesto a cliente',\n",
              "  'Recibir respuesta',\n",
              "  'Comprar repuestos',\n",
              "  'Recibir repuestos',\n",
              "  'Instalar repuestos',\n",
              "  'Restaurar danos',\n",
              "  'Pintar vehiculo',\n",
              "  'Probar vehiculo',\n",
              "  'Comprar repuestos',\n",
              "  'Restaurar danos',\n",
              "  'Recibir repuestos',\n",
              "  'Instalar repuestos',\n",
              "  'Pintar vehiculo',\n",
              "  'Probar vehiculo',\n",
              "  'Entregar vehiculo'): 9,\n",
              " ('Recibir vehiculo',\n",
              "  'Elaborar presupuesto',\n",
              "  'Enviar presupuesto a cliente',\n",
              "  'Recibir respuesta',\n",
              "  'Comprar repuestos',\n",
              "  'Recibir repuestos',\n",
              "  'Restaurar danos',\n",
              "  'Instalar repuestos',\n",
              "  'Pintar vehiculo',\n",
              "  'Probar vehiculo',\n",
              "  'Comprar repuestos',\n",
              "  'Restaurar danos',\n",
              "  'Recibir repuestos',\n",
              "  'Instalar repuestos',\n",
              "  'Pintar vehiculo',\n",
              "  'Probar vehiculo',\n",
              "  'Restaurar danos',\n",
              "  'Comprar repuestos',\n",
              "  'Recibir repuestos',\n",
              "  'Instalar repuestos',\n",
              "  'Pintar vehiculo',\n",
              "  'Probar vehiculo',\n",
              "  'Entregar vehiculo'): 2,\n",
              " ('Recibir vehiculo',\n",
              "  'Elaborar presupuesto',\n",
              "  'Enviar presupuesto a cliente',\n",
              "  'Recibir respuesta',\n",
              "  'Comprar repuestos',\n",
              "  'Recibir repuestos',\n",
              "  'Instalar repuestos',\n",
              "  'Restaurar danos',\n",
              "  'Pintar vehiculo',\n",
              "  'Probar vehiculo',\n",
              "  'Restaurar danos',\n",
              "  'Comprar repuestos',\n",
              "  'Recibir repuestos',\n",
              "  'Instalar repuestos',\n",
              "  'Pintar vehiculo',\n",
              "  'Probar vehiculo',\n",
              "  'Entregar vehiculo'): 15,\n",
              " ('Recibir vehiculo',\n",
              "  'Elaborar presupuesto',\n",
              "  'Enviar presupuesto a cliente',\n",
              "  'Recibir respuesta',\n",
              "  'Comprar repuestos',\n",
              "  'Recibir repuestos',\n",
              "  'Restaurar danos',\n",
              "  'Instalar repuestos',\n",
              "  'Pintar vehiculo',\n",
              "  'Probar vehiculo',\n",
              "  'Comprar repuestos',\n",
              "  'Restaurar danos',\n",
              "  'Recibir repuestos',\n",
              "  'Instalar repuestos',\n",
              "  'Pintar vehiculo',\n",
              "  'Probar vehiculo',\n",
              "  'Entregar vehiculo'): 7,\n",
              " ('Recibir vehiculo',\n",
              "  'Elaborar presupuesto',\n",
              "  'Enviar presupuesto a cliente',\n",
              "  'Recibir respuesta',\n",
              "  'Restaurar danos',\n",
              "  'Comprar repuestos',\n",
              "  'Recibir repuestos',\n",
              "  'Instalar repuestos',\n",
              "  'Pintar vehiculo',\n",
              "  'Probar vehiculo',\n",
              "  'Restaurar danos',\n",
              "  'Comprar repuestos',\n",
              "  'Recibir repuestos',\n",
              "  'Instalar repuestos',\n",
              "  'Pintar vehiculo',\n",
              "  'Probar vehiculo',\n",
              "  'Instalar repuestos',\n",
              "  'Restaurar danos',\n",
              "  'Pintar vehiculo',\n",
              "  'Probar vehiculo',\n",
              "  'Entregar vehiculo'): 1,\n",
              " ('Recibir vehiculo',\n",
              "  'Elaborar presupuesto',\n",
              "  'Enviar presupuesto a cliente',\n",
              "  'Recibir respuesta',\n",
              "  'Comprar repuestos',\n",
              "  'Restaurar danos',\n",
              "  'Recibir repuestos',\n",
              "  'Instalar repuestos',\n",
              "  'Pintar vehiculo',\n",
              "  'Probar vehiculo',\n",
              "  'Comprar repuestos',\n",
              "  'Recibir repuestos',\n",
              "  'Instalar repuestos',\n",
              "  'Restaurar danos',\n",
              "  'Pintar vehiculo',\n",
              "  'Probar vehiculo',\n",
              "  'Entregar vehiculo'): 1,\n",
              " ('Recibir vehiculo',\n",
              "  'Elaborar presupuesto',\n",
              "  'Enviar presupuesto a cliente',\n",
              "  'Recibir respuesta',\n",
              "  'Comprar repuestos',\n",
              "  'Restaurar danos',\n",
              "  'Recibir repuestos',\n",
              "  'Instalar repuestos',\n",
              "  'Pintar vehiculo',\n",
              "  'Probar vehiculo',\n",
              "  'Restaurar danos',\n",
              "  'Comprar repuestos',\n",
              "  'Recibir repuestos',\n",
              "  'Instalar repuestos',\n",
              "  'Pintar vehiculo',\n",
              "  'Probar vehiculo',\n",
              "  'Comprar repuestos',\n",
              "  'Restaurar danos',\n",
              "  'Recibir repuestos',\n",
              "  'Instalar repuestos',\n",
              "  'Pintar vehiculo',\n",
              "  'Probar vehiculo',\n",
              "  'Restaurar danos',\n",
              "  'Comprar repuestos',\n",
              "  'Recibir repuestos',\n",
              "  'Instalar repuestos',\n",
              "  'Pintar vehiculo',\n",
              "  'Probar vehiculo',\n",
              "  'Entregar vehiculo'): 1,\n",
              " ('Recibir vehiculo',\n",
              "  'Elaborar presupuesto',\n",
              "  'Enviar presupuesto a cliente',\n",
              "  'Recibir respuesta',\n",
              "  'Restaurar danos',\n",
              "  'Comprar repuestos',\n",
              "  'Recibir repuestos',\n",
              "  'Instalar repuestos',\n",
              "  'Pintar vehiculo',\n",
              "  'Probar vehiculo',\n",
              "  'Restaurar danos',\n",
              "  'Comprar repuestos',\n",
              "  'Recibir repuestos',\n",
              "  'Instalar repuestos',\n",
              "  'Pintar vehiculo',\n",
              "  'Probar vehiculo',\n",
              "  'Restaurar danos',\n",
              "  'Comprar repuestos',\n",
              "  'Recibir repuestos',\n",
              "  'Instalar repuestos',\n",
              "  'Pintar vehiculo',\n",
              "  'Probar vehiculo',\n",
              "  'Entregar vehiculo'): 1,\n",
              " ('Recibir vehiculo',\n",
              "  'Elaborar presupuesto',\n",
              "  'Enviar presupuesto a cliente',\n",
              "  'Recibir respuesta',\n",
              "  'Comprar repuestos',\n",
              "  'Recibir repuestos',\n",
              "  'Instalar repuestos',\n",
              "  'Restaurar danos',\n",
              "  'Pintar vehiculo',\n",
              "  'Probar vehiculo',\n",
              "  'Restaurar danos',\n",
              "  'Comprar repuestos',\n",
              "  'Recibir repuestos',\n",
              "  'Instalar repuestos',\n",
              "  'Pintar vehiculo',\n",
              "  'Probar vehiculo',\n",
              "  'Comprar repuestos',\n",
              "  'Restaurar danos',\n",
              "  'Recibir repuestos',\n",
              "  'Instalar repuestos',\n",
              "  'Pintar vehiculo',\n",
              "  'Probar vehiculo',\n",
              "  'Entregar vehiculo'): 1,\n",
              " ('Recibir vehiculo',\n",
              "  'Elaborar presupuesto',\n",
              "  'Enviar presupuesto a cliente',\n",
              "  'Recibir respuesta',\n",
              "  'Comprar repuestos',\n",
              "  'Recibir repuestos',\n",
              "  'Restaurar danos',\n",
              "  'Instalar repuestos',\n",
              "  'Pintar vehiculo',\n",
              "  'Probar vehiculo',\n",
              "  'Restaurar danos',\n",
              "  'Comprar repuestos',\n",
              "  'Recibir repuestos',\n",
              "  'Instalar repuestos',\n",
              "  'Pintar vehiculo',\n",
              "  'Probar vehiculo',\n",
              "  'Comprar repuestos',\n",
              "  'Recibir repuestos',\n",
              "  'Instalar repuestos',\n",
              "  'Restaurar danos',\n",
              "  'Pintar vehiculo',\n",
              "  'Probar vehiculo',\n",
              "  'Restaurar danos',\n",
              "  'Comprar repuestos',\n",
              "  'Recibir repuestos',\n",
              "  'Instalar repuestos',\n",
              "  'Pintar vehiculo',\n",
              "  'Probar vehiculo',\n",
              "  'Entregar vehiculo'): 1,\n",
              " ('Recibir vehiculo',\n",
              "  'Elaborar presupuesto',\n",
              "  'Enviar presupuesto a cliente',\n",
              "  'Recibir respuesta',\n",
              "  'Comprar repuestos',\n",
              "  'Recibir repuestos',\n",
              "  'Instalar repuestos',\n",
              "  'Restaurar danos',\n",
              "  'Pintar vehiculo',\n",
              "  'Probar vehiculo',\n",
              "  'Comprar repuestos',\n",
              "  'Restaurar danos',\n",
              "  'Recibir repuestos',\n",
              "  'Instalar repuestos',\n",
              "  'Pintar vehiculo',\n",
              "  'Probar vehiculo',\n",
              "  'Comprar repuestos',\n",
              "  'Recibir repuestos',\n",
              "  'Instalar repuestos',\n",
              "  'Restaurar danos',\n",
              "  'Pintar vehiculo',\n",
              "  'Probar vehiculo',\n",
              "  'Entregar vehiculo'): 1,\n",
              " ('Recibir vehiculo',\n",
              "  'Elaborar presupuesto',\n",
              "  'Enviar presupuesto a cliente',\n",
              "  'Recibir respuesta',\n",
              "  'Comprar repuestos',\n",
              "  'Recibir repuestos',\n",
              "  'Restaurar danos',\n",
              "  'Instalar repuestos',\n",
              "  'Pintar vehiculo',\n",
              "  'Probar vehiculo',\n",
              "  'Comprar repuestos',\n",
              "  'Restaurar danos',\n",
              "  'Recibir repuestos',\n",
              "  'Instalar repuestos',\n",
              "  'Pintar vehiculo',\n",
              "  'Probar vehiculo',\n",
              "  'Comprar repuestos',\n",
              "  'Restaurar danos',\n",
              "  'Recibir repuestos',\n",
              "  'Instalar repuestos',\n",
              "  'Pintar vehiculo',\n",
              "  'Probar vehiculo',\n",
              "  'Entregar vehiculo'): 1,\n",
              " ('Recibir vehiculo',\n",
              "  'Elaborar presupuesto',\n",
              "  'Enviar presupuesto a cliente',\n",
              "  'Recibir respuesta',\n",
              "  'Comprar repuestos',\n",
              "  'Recibir repuestos',\n",
              "  'Restaurar danos',\n",
              "  'Instalar repuestos',\n",
              "  'Pintar vehiculo',\n",
              "  'Probar vehiculo',\n",
              "  'Comprar repuestos',\n",
              "  'Recibir repuestos',\n",
              "  'Instalar repuestos',\n",
              "  'Restaurar danos',\n",
              "  'Pintar vehiculo',\n",
              "  'Probar vehiculo',\n",
              "  'Entregar vehiculo'): 1,\n",
              " ('Recibir vehiculo',\n",
              "  'Elaborar presupuesto',\n",
              "  'Enviar presupuesto a cliente',\n",
              "  'Recibir respuesta',\n",
              "  'Comprar repuestos',\n",
              "  'Recibir repuestos',\n",
              "  'Instalar repuestos',\n",
              "  'Restaurar danos',\n",
              "  'Pintar vehiculo',\n",
              "  'Probar vehiculo',\n",
              "  'Instalar repuestos',\n",
              "  'Restaurar danos',\n",
              "  'Pintar vehiculo',\n",
              "  'Probar vehiculo',\n",
              "  'Entregar vehiculo'): 1,\n",
              " ('Recibir vehiculo',\n",
              "  'Elaborar presupuesto',\n",
              "  'Enviar presupuesto a cliente',\n",
              "  'Recibir respuesta',\n",
              "  'Comprar repuestos',\n",
              "  'Recibir repuestos',\n",
              "  'Instalar repuestos',\n",
              "  'Restaurar danos',\n",
              "  'Pintar vehiculo',\n",
              "  'Probar vehiculo',\n",
              "  'Restaurar danos',\n",
              "  'Comprar repuestos',\n",
              "  'Recibir repuestos',\n",
              "  'Instalar repuestos',\n",
              "  'Pintar vehiculo',\n",
              "  'Probar vehiculo',\n",
              "  'Comprar repuestos',\n",
              "  'Restaurar danos',\n",
              "  'Recibir repuestos',\n",
              "  'Instalar repuestos',\n",
              "  'Pintar vehiculo',\n",
              "  'Probar vehiculo',\n",
              "  'Restaurar danos',\n",
              "  'Comprar repuestos',\n",
              "  'Recibir repuestos',\n",
              "  'Instalar repuestos',\n",
              "  'Pintar vehiculo',\n",
              "  'Probar vehiculo',\n",
              "  'Entregar vehiculo'): 1,\n",
              " ('Recibir vehiculo',\n",
              "  'Elaborar presupuesto',\n",
              "  'Enviar presupuesto a cliente',\n",
              "  'Recibir respuesta',\n",
              "  'Comprar repuestos',\n",
              "  'Recibir repuestos',\n",
              "  'Restaurar danos',\n",
              "  'Instalar repuestos',\n",
              "  'Pintar vehiculo',\n",
              "  'Probar vehiculo',\n",
              "  'Restaurar danos',\n",
              "  'Comprar repuestos',\n",
              "  'Recibir repuestos',\n",
              "  'Instalar repuestos',\n",
              "  'Pintar vehiculo',\n",
              "  'Probar vehiculo'): 1,\n",
              " ('Recibir vehiculo',\n",
              "  'Elaborar presupuesto',\n",
              "  'Enviar presupuesto a cliente',\n",
              "  'Recibir respuesta',\n",
              "  'Comprar repuestos',\n",
              "  'Recibir repuestos',\n",
              "  'Restaurar danos',\n",
              "  'Instalar repuestos',\n",
              "  'Pintar vehiculo',\n",
              "  'Probar vehiculo',\n",
              "  'Comprar repuestos',\n",
              "  'Restaurar danos',\n",
              "  'Recibir repuestos',\n",
              "  'Instalar repuestos',\n",
              "  'Pintar vehiculo',\n",
              "  'Probar vehiculo'): 1,\n",
              " ('Recibir vehiculo',\n",
              "  'Elaborar presupuesto',\n",
              "  'Enviar presupuesto a cliente',\n",
              "  'Recibir respuesta',\n",
              "  'Comprar repuestos',\n",
              "  'Recibir repuestos',\n",
              "  'Instalar repuestos',\n",
              "  'Restaurar danos',\n",
              "  'Pintar vehiculo',\n",
              "  'Probar vehiculo'): 17,\n",
              " ('Recibir vehiculo',\n",
              "  'Elaborar presupuesto',\n",
              "  'Enviar presupuesto a cliente',\n",
              "  'Recibir respuesta',\n",
              "  'Comprar repuestos',\n",
              "  'Recibir repuestos'): 72,\n",
              " ('Recibir vehiculo',\n",
              "  'Elaborar presupuesto',\n",
              "  'Enviar presupuesto a cliente',\n",
              "  'Recibir respuesta',\n",
              "  'Comprar repuestos',\n",
              "  'Recibir repuestos',\n",
              "  'Instalar repuestos',\n",
              "  'Restaurar danos',\n",
              "  'Pintar vehiculo',\n",
              "  'Probar vehiculo',\n",
              "  'Restaurar danos',\n",
              "  'Comprar repuestos',\n",
              "  'Recibir repuestos',\n",
              "  'Instalar repuestos',\n",
              "  'Pintar vehiculo',\n",
              "  'Probar vehiculo'): 1,\n",
              " ('Recibir vehiculo',\n",
              "  'Elaborar presupuesto',\n",
              "  'Enviar presupuesto a cliente',\n",
              "  'Recibir respuesta',\n",
              "  'Comprar repuestos',\n",
              "  'Recibir repuestos',\n",
              "  'Restaurar danos',\n",
              "  'Instalar repuestos'): 3,\n",
              " ('Recibir vehiculo',\n",
              "  'Elaborar presupuesto',\n",
              "  'Enviar presupuesto a cliente',\n",
              "  'Recibir respuesta',\n",
              "  'Comprar repuestos',\n",
              "  'Recibir repuestos',\n",
              "  'Restaurar danos',\n",
              "  'Instalar repuestos',\n",
              "  'Pintar vehiculo',\n",
              "  'Probar vehiculo',\n",
              "  'Comprar repuestos',\n",
              "  'Restaurar danos'): 1,\n",
              " ('Recibir vehiculo',\n",
              "  'Elaborar presupuesto',\n",
              "  'Enviar presupuesto a cliente',\n",
              "  'Recibir respuesta',\n",
              "  'Comprar repuestos',\n",
              "  'Recibir repuestos',\n",
              "  'Restaurar danos',\n",
              "  'Instalar repuestos',\n",
              "  'Pintar vehiculo',\n",
              "  'Probar vehiculo'): 3,\n",
              " ('Recibir vehiculo',\n",
              "  'Elaborar presupuesto',\n",
              "  'Enviar presupuesto a cliente',\n",
              "  'Recibir respuesta',\n",
              "  'Comprar repuestos',\n",
              "  'Recibir repuestos',\n",
              "  'Restaurar danos'): 2,\n",
              " ('Recibir vehiculo',\n",
              "  'Elaborar presupuesto',\n",
              "  'Enviar presupuesto a cliente',\n",
              "  'Recibir respuesta',\n",
              "  'Comprar repuestos',\n",
              "  'Recibir repuestos',\n",
              "  'Instalar repuestos',\n",
              "  'Restaurar danos',\n",
              "  'Pintar vehiculo',\n",
              "  'Probar vehiculo',\n",
              "  'Comprar repuestos',\n",
              "  'Restaurar danos'): 1,\n",
              " ('Recibir vehiculo',\n",
              "  'Elaborar presupuesto',\n",
              "  'Enviar presupuesto a cliente',\n",
              "  'Recibir respuesta',\n",
              "  'Comprar repuestos',\n",
              "  'Recibir repuestos',\n",
              "  'Instalar repuestos'): 2,\n",
              " ('Recibir vehiculo',\n",
              "  'Elaborar presupuesto',\n",
              "  'Enviar presupuesto a cliente',\n",
              "  'Recibir respuesta',\n",
              "  'Comprar repuestos',\n",
              "  'Recibir repuestos',\n",
              "  'Instalar repuestos',\n",
              "  'Restaurar danos',\n",
              "  'Pintar vehiculo',\n",
              "  'Probar vehiculo',\n",
              "  'Comprar repuestos'): 1,\n",
              " ('Recibir vehiculo',\n",
              "  'Elaborar presupuesto',\n",
              "  'Enviar presupuesto a cliente',\n",
              "  'Recibir respuesta',\n",
              "  'Comprar repuestos',\n",
              "  'Recibir repuestos',\n",
              "  'Instalar repuestos',\n",
              "  'Restaurar danos'): 2,\n",
              " ('Recibir vehiculo',\n",
              "  'Elaborar presupuesto',\n",
              "  'Enviar presupuesto a cliente',\n",
              "  'Recibir respuesta',\n",
              "  'Comprar repuestos',\n",
              "  'Recibir repuestos',\n",
              "  'Instalar repuestos',\n",
              "  'Restaurar danos',\n",
              "  'Pintar vehiculo',\n",
              "  'Probar vehiculo',\n",
              "  'Restaurar danos',\n",
              "  'Comprar repuestos'): 1,\n",
              " ('Recibir vehiculo',\n",
              "  'Elaborar presupuesto',\n",
              "  'Enviar presupuesto a cliente',\n",
              "  'Recibir respuesta',\n",
              "  'Comprar repuestos'): 17,\n",
              " ('Recibir vehiculo',\n",
              "  'Elaborar presupuesto',\n",
              "  'Enviar presupuesto a cliente',\n",
              "  'Coordinar retiro'): 1,\n",
              " ('Recibir vehiculo',\n",
              "  'Elaborar presupuesto',\n",
              "  'Enviar presupuesto a cliente',\n",
              "  'Recibir respuesta',\n",
              "  'Coordinar retiro'): 6,\n",
              " ('Recibir vehiculo',\n",
              "  'Elaborar presupuesto',\n",
              "  'Enviar presupuesto a cliente',\n",
              "  'Recibir respuesta',\n",
              "  'Restaurar danos',\n",
              "  'Comprar repuestos',\n",
              "  'Recibir repuestos',\n",
              "  'Instalar repuestos',\n",
              "  'Pintar vehiculo',\n",
              "  'Probar vehiculo',\n",
              "  'Comprar repuestos',\n",
              "  'Recibir repuestos',\n",
              "  'Restaurar danos',\n",
              "  'Instalar repuestos',\n",
              "  'Pintar vehiculo',\n",
              "  'Probar vehiculo',\n",
              "  'Entregar vehiculo'): 1,\n",
              " ('Recibir vehiculo',\n",
              "  'Elaborar presupuesto',\n",
              "  'Enviar presupuesto a cliente',\n",
              "  'Recibir respuesta'): 10,\n",
              " ('Recibir vehiculo',\n",
              "  'Elaborar presupuesto',\n",
              "  'Enviar presupuesto a cliente',\n",
              "  'Recibir respuesta',\n",
              "  'Comprar repuestos',\n",
              "  'Restaurar danos',\n",
              "  'Recibir repuestos',\n",
              "  'Instalar repuestos',\n",
              "  'Pintar vehiculo',\n",
              "  'Probar vehiculo',\n",
              "  'Restaurar danos',\n",
              "  'Comprar repuestos',\n",
              "  'Recibir repuestos',\n",
              "  'Instalar repuestos',\n",
              "  'Pintar vehiculo',\n",
              "  'Probar vehiculo',\n",
              "  'Restaurar danos',\n",
              "  'Comprar repuestos',\n",
              "  'Recibir repuestos',\n",
              "  'Instalar repuestos',\n",
              "  'Pintar vehiculo',\n",
              "  'Probar vehiculo',\n",
              "  'Entregar vehiculo'): 1,\n",
              " ('Recibir vehiculo',\n",
              "  'Elaborar presupuesto',\n",
              "  'Enviar presupuesto a cliente'): 13,\n",
              " ('Recibir vehiculo',\n",
              "  'Elaborar presupuesto',\n",
              "  'Enviar presupuesto a cliente',\n",
              "  'Recibir respuesta',\n",
              "  'Comprar repuestos',\n",
              "  'Restaurar danos',\n",
              "  'Recibir repuestos',\n",
              "  'Instalar repuestos',\n",
              "  'Pintar vehiculo',\n",
              "  'Probar vehiculo',\n",
              "  'Comprar repuestos',\n",
              "  'Restaurar danos',\n",
              "  'Recibir repuestos',\n",
              "  'Instalar repuestos',\n",
              "  'Pintar vehiculo',\n",
              "  'Probar vehiculo',\n",
              "  'Restaurar danos',\n",
              "  'Comprar repuestos',\n",
              "  'Recibir repuestos',\n",
              "  'Instalar repuestos',\n",
              "  'Pintar vehiculo',\n",
              "  'Probar vehiculo',\n",
              "  'Comprar repuestos',\n",
              "  'Restaurar danos',\n",
              "  'Recibir repuestos',\n",
              "  'Instalar repuestos',\n",
              "  'Pintar vehiculo',\n",
              "  'Probar vehiculo',\n",
              "  'Entregar vehiculo'): 1}"
            ]
          },
          "metadata": {},
          "execution_count": 12
        }
      ]
    },
    {
      "cell_type": "markdown",
      "source": [
        "Si quisiéramos saber cuantas variantes hay, podemos preguntar por el largo del diccionario:\n",
        "\n",
        "```python\n",
        "len(pm4py.stats.get_variants(event_log))\n",
        "```\n"
      ],
      "metadata": {
        "id": "fU053X8ojyaC"
      }
    },
    {
      "cell_type": "code",
      "source": [
        "cant_variantes = len(pm4py.stats.get_variants(log_csv))\n",
        "print('El event log cuenta con', cant_variantes, 'variantes')"
      ],
      "metadata": {
        "colab": {
          "base_uri": "https://localhost:8080/"
        },
        "id": "U3CrxQ_TkDO7",
        "outputId": "6753302c-3c41-4978-a99a-942890e50f89"
      },
      "execution_count": null,
      "outputs": [
        {
          "output_type": "stream",
          "name": "stdout",
          "text": [
            "El event log cuenta con 53 variantes\n"
          ]
        }
      ]
    },
    {
      "cell_type": "markdown",
      "source": [
        "Como la función anterior retorna las variantes desordenadas, si quisiéramos responder cuáles son las *n* variantes más comunes, bastaría con ordenar de mayor a menor."
      ],
      "metadata": {
        "id": "lKiIiCgLjBQL"
      }
    },
    {
      "cell_type": "code",
      "source": [
        "# Convierto a tipo de dato list, el cuál permite ordenarse\n",
        "list_variantes = list(variantes.items())\n",
        "# Ordeno las variantes\n",
        "list_variantes.sort(key = lambda x: x[1], reverse=True)\n",
        "\n",
        "# Mostraré las 5 más comunes\n",
        "for var in list_variantes[0:5]:\n",
        "  print(var)"
      ],
      "metadata": {
        "colab": {
          "base_uri": "https://localhost:8080/"
        },
        "id": "1hooMPijjAw6",
        "outputId": "33ce3549-069f-4349-af1d-a2e0c9b8e23e"
      },
      "execution_count": null,
      "outputs": [
        {
          "output_type": "stream",
          "name": "stdout",
          "text": [
            "(('Recibir vehiculo', 'Elaborar presupuesto', 'Enviar presupuesto a cliente', 'Recibir respuesta', 'Comprar repuestos', 'Recibir repuestos', 'Restaurar danos', 'Instalar repuestos', 'Pintar vehiculo', 'Probar vehiculo', 'Entregar vehiculo'), 236)\n",
            "(('Recibir vehiculo', 'Elaborar presupuesto', 'Enviar presupuesto a cliente', 'Recibir respuesta', 'Comprar repuestos', 'Recibir repuestos', 'Instalar repuestos', 'Restaurar danos', 'Pintar vehiculo', 'Probar vehiculo', 'Entregar vehiculo'), 216)\n",
            "(('Recibir vehiculo', 'Elaborar presupuesto', 'Enviar presupuesto a cliente', 'Recibir respuesta', 'Coordinar retiro', 'Entregar vehiculo'), 78)\n",
            "(('Recibir vehiculo', 'Elaborar presupuesto', 'Enviar presupuesto a cliente', 'Recibir respuesta', 'Comprar repuestos', 'Restaurar danos', 'Recibir repuestos', 'Instalar repuestos', 'Pintar vehiculo', 'Probar vehiculo', 'Entregar vehiculo'), 78)\n",
            "(('Recibir vehiculo', 'Elaborar presupuesto', 'Enviar presupuesto a cliente', 'Recibir respuesta', 'Comprar repuestos', 'Recibir repuestos'), 72)\n"
          ]
        }
      ]
    },
    {
      "cell_type": "markdown",
      "source": [
        "### ¿Cuál es la duración (promedio y mediana) de los casos?"
      ],
      "metadata": {
        "id": "cXhgP7DLobg7"
      }
    },
    {
      "cell_type": "markdown",
      "source": [
        "Para contestar la pregunta, se puede obtener la duración de cada uno de los casos del log de eventos a través de las funciones de PM4Py:\n",
        "\n",
        "    \n",
        "```python\n",
        "duraciones_casos = pm4py.stats.get_all_case_durations(log_de_eventos)\n",
        "```\n",
        "Esto retorna una lista de duraciones (en segundos). Luego, se pueden utilizar funcionalidades del módulo Numpy para obtener el promedio o la mediana."
      ],
      "metadata": {
        "id": "o1lbiVH2ojd8"
      }
    },
    {
      "cell_type": "code",
      "source": [
        "duraciones_casos = pm4py.stats.get_all_case_durations(log_csv)\n",
        "duraciones_casos"
      ],
      "metadata": {
        "colab": {
          "base_uri": "https://localhost:8080/"
        },
        "id": "KRQaIst5k2Hv",
        "outputId": "6ffc1508-964e-4609-a353-544aa0ae9ad9"
      },
      "execution_count": null,
      "outputs": [
        {
          "output_type": "execute_result",
          "data": {
            "text/plain": [
              "[4058.0,\n",
              " 5117.0,\n",
              " 5204.0,\n",
              " 6708.0,\n",
              " 8299.0,\n",
              " 8456.0,\n",
              " 8598.0,\n",
              " 9663.0,\n",
              " 9906.0,\n",
              " 10583.0,\n",
              " 12098.0,\n",
              " 14117.0,\n",
              " 14162.0,\n",
              " 21577.0,\n",
              " 30717.0,\n",
              " 31109.0,\n",
              " 32326.0,\n",
              " 32863.0,\n",
              " 37734.0,\n",
              " 44519.0,\n",
              " 73730.0,\n",
              " 74689.0,\n",
              " 77928.0,\n",
              " 78681.0,\n",
              " 83220.0,\n",
              " 84289.0,\n",
              " 84450.0,\n",
              " 86418.0,\n",
              " 95428.0,\n",
              " 105437.0,\n",
              " 109699.0,\n",
              " 110873.0,\n",
              " 112441.0,\n",
              " 113513.0,\n",
              " 117918.0,\n",
              " 118619.0,\n",
              " 140754.0,\n",
              " 158661.0,\n",
              " 160940.0,\n",
              " 162399.0,\n",
              " 164419.0,\n",
              " 164778.0,\n",
              " 166156.0,\n",
              " 166857.0,\n",
              " 167157.0,\n",
              " 167955.0,\n",
              " 168518.0,\n",
              " 170155.0,\n",
              " 171963.0,\n",
              " 172833.0,\n",
              " 173227.0,\n",
              " 173569.0,\n",
              " 173987.0,\n",
              " 189085.0,\n",
              " 190846.0,\n",
              " 193030.0,\n",
              " 194274.0,\n",
              " 196652.0,\n",
              " 196702.0,\n",
              " 197616.0,\n",
              " 200520.0,\n",
              " 200760.0,\n",
              " 202799.0,\n",
              " 204004.0,\n",
              " 204326.0,\n",
              " 204493.0,\n",
              " 217677.0,\n",
              " 247247.0,\n",
              " 247816.0,\n",
              " 247923.0,\n",
              " 248755.0,\n",
              " 250707.0,\n",
              " 251414.0,\n",
              " 254427.0,\n",
              " 258355.0,\n",
              " 258993.0,\n",
              " 259131.0,\n",
              " 272865.0,\n",
              " 277187.0,\n",
              " 277684.0,\n",
              " 278141.0,\n",
              " 280603.0,\n",
              " 282047.0,\n",
              " 284608.0,\n",
              " 331739.0,\n",
              " 332188.0,\n",
              " 333003.0,\n",
              " 335921.0,\n",
              " 338536.0,\n",
              " 339849.0,\n",
              " 341397.0,\n",
              " 342466.0,\n",
              " 343192.0,\n",
              " 343475.0,\n",
              " 344207.0,\n",
              " 344866.0,\n",
              " 345809.0,\n",
              " 362055.0,\n",
              " 363431.0,\n",
              " 364725.0,\n",
              " 367066.0,\n",
              " 367886.0,\n",
              " 368003.0,\n",
              " 370888.0,\n",
              " 371464.0,\n",
              " 373192.0,\n",
              " 418196.0,\n",
              " 419591.0,\n",
              " 420288.0,\n",
              " 421027.0,\n",
              " 421510.0,\n",
              " 422500.0,\n",
              " 423466.0,\n",
              " 423677.0,\n",
              " 424219.0,\n",
              " 424258.0,\n",
              " 424614.0,\n",
              " 424869.0,\n",
              " 426276.0,\n",
              " 427765.0,\n",
              " 427926.0,\n",
              " 429412.0,\n",
              " 430955.0,\n",
              " 441859.0,\n",
              " 444318.0,\n",
              " 448215.0,\n",
              " 448899.0,\n",
              " 448971.0,\n",
              " 449943.0,\n",
              " 451155.0,\n",
              " 454561.0,\n",
              " 457246.0,\n",
              " 460416.0,\n",
              " 462827.0,\n",
              " 507954.0,\n",
              " 508646.0,\n",
              " 509300.0,\n",
              " 509419.0,\n",
              " 510778.0,\n",
              " 511172.0,\n",
              " 511618.0,\n",
              " 512375.0,\n",
              " 513658.0,\n",
              " 513993.0,\n",
              " 514699.0,\n",
              " 516276.0,\n",
              " 526304.0,\n",
              " 533005.0,\n",
              " 535707.0,\n",
              " 535724.0,\n",
              " 537627.0,\n",
              " 538942.0,\n",
              " 539036.0,\n",
              " 539071.0,\n",
              " 540143.0,\n",
              " 540460.0,\n",
              " 540641.0,\n",
              " 542018.0,\n",
              " 542173.0,\n",
              " 542623.0,\n",
              " 543040.0,\n",
              " 544745.0,\n",
              " 546350.0,\n",
              " 546509.0,\n",
              " 547152.0,\n",
              " 547215.0,\n",
              " 548455.0,\n",
              " 549055.0,\n",
              " 556130.0,\n",
              " 600033.0,\n",
              " 612456.0,\n",
              " 614099.0,\n",
              " 615747.0,\n",
              " 617440.0,\n",
              " 618267.0,\n",
              " 618768.0,\n",
              " 619263.0,\n",
              " 619613.0,\n",
              " 619680.0,\n",
              " 620069.0,\n",
              " 620388.0,\n",
              " 620645.0,\n",
              " 620764.0,\n",
              " 620928.0,\n",
              " 621612.0,\n",
              " 621654.0,\n",
              " 622060.0,\n",
              " 622398.0,\n",
              " 622808.0,\n",
              " 622889.0,\n",
              " 622933.0,\n",
              " 623678.0,\n",
              " 624316.0,\n",
              " 624545.0,\n",
              " 624577.0,\n",
              " 624602.0,\n",
              " 624713.0,\n",
              " 624715.0,\n",
              " 624745.0,\n",
              " 625378.0,\n",
              " 625455.0,\n",
              " 625476.0,\n",
              " 625629.0,\n",
              " 625933.0,\n",
              " 626315.0,\n",
              " 626318.0,\n",
              " 626325.0,\n",
              " 626457.0,\n",
              " 626457.0,\n",
              " 626962.0,\n",
              " 627423.0,\n",
              " 627458.0,\n",
              " 627675.0,\n",
              " 627985.0,\n",
              " 628262.0,\n",
              " 628358.0,\n",
              " 628430.0,\n",
              " 629077.0,\n",
              " 629732.0,\n",
              " 630417.0,\n",
              " 630510.0,\n",
              " 630575.0,\n",
              " 630718.0,\n",
              " 630893.0,\n",
              " 631944.0,\n",
              " 632301.0,\n",
              " 632397.0,\n",
              " 632437.0,\n",
              " 633409.0,\n",
              " 634478.0,\n",
              " 634619.0,\n",
              " 634889.0,\n",
              " 635478.0,\n",
              " 636158.0,\n",
              " 679268.0,\n",
              " 687921.0,\n",
              " 692328.0,\n",
              " 703415.0,\n",
              " 703758.0,\n",
              " 705425.0,\n",
              " 705854.0,\n",
              " 705974.0,\n",
              " 706159.0,\n",
              " 706655.0,\n",
              " 706662.0,\n",
              " 706676.0,\n",
              " 706746.0,\n",
              " 707275.0,\n",
              " 707588.0,\n",
              " 707649.0,\n",
              " 707740.0,\n",
              " 708174.0,\n",
              " 708206.0,\n",
              " 708672.0,\n",
              " 708778.0,\n",
              " 708823.0,\n",
              " 708903.0,\n",
              " 709022.0,\n",
              " 709314.0,\n",
              " 709345.0,\n",
              " 709391.0,\n",
              " 709435.0,\n",
              " 709613.0,\n",
              " 709880.0,\n",
              " 709982.0,\n",
              " 710166.0,\n",
              " 710283.0,\n",
              " 710372.0,\n",
              " 710426.0,\n",
              " 710721.0,\n",
              " 710746.0,\n",
              " 710815.0,\n",
              " 711017.0,\n",
              " 711093.0,\n",
              " 711210.0,\n",
              " 711231.0,\n",
              " 711236.0,\n",
              " 711323.0,\n",
              " 711432.0,\n",
              " 711467.0,\n",
              " 711483.0,\n",
              " 711558.0,\n",
              " 712029.0,\n",
              " 712029.0,\n",
              " 712267.0,\n",
              " 712311.0,\n",
              " 712370.0,\n",
              " 712524.0,\n",
              " 712626.0,\n",
              " 712788.0,\n",
              " 712950.0,\n",
              " 713653.0,\n",
              " 713701.0,\n",
              " 713926.0,\n",
              " 713999.0,\n",
              " 714210.0,\n",
              " 714216.0,\n",
              " 714429.0,\n",
              " 714558.0,\n",
              " 714570.0,\n",
              " 714970.0,\n",
              " 715154.0,\n",
              " 715440.0,\n",
              " 715521.0,\n",
              " 715525.0,\n",
              " 715633.0,\n",
              " 715750.0,\n",
              " 715830.0,\n",
              " 715922.0,\n",
              " 716214.0,\n",
              " 716447.0,\n",
              " 716464.0,\n",
              " 716483.0,\n",
              " 716542.0,\n",
              " 716588.0,\n",
              " 716592.0,\n",
              " 716873.0,\n",
              " 717187.0,\n",
              " 717231.0,\n",
              " 717233.0,\n",
              " 718649.0,\n",
              " 719322.0,\n",
              " 719829.0,\n",
              " 720477.0,\n",
              " 720647.0,\n",
              " 721890.0,\n",
              " 721914.0,\n",
              " 722456.0,\n",
              " 722832.0,\n",
              " 722868.0,\n",
              " 724615.0,\n",
              " 725016.0,\n",
              " 786497.0,\n",
              " 786726.0,\n",
              " 787235.0,\n",
              " 788711.0,\n",
              " 788852.0,\n",
              " 788953.0,\n",
              " 789081.0,\n",
              " 789503.0,\n",
              " 789998.0,\n",
              " 790062.0,\n",
              " 790153.0,\n",
              " 790583.0,\n",
              " 791222.0,\n",
              " 792344.0,\n",
              " 793476.0,\n",
              " 794127.0,\n",
              " 794307.0,\n",
              " 794433.0,\n",
              " 794786.0,\n",
              " 795475.0,\n",
              " 795618.0,\n",
              " 795973.0,\n",
              " 796120.0,\n",
              " 796181.0,\n",
              " 796363.0,\n",
              " 796439.0,\n",
              " 796683.0,\n",
              " 796976.0,\n",
              " 797180.0,\n",
              " 797602.0,\n",
              " 797758.0,\n",
              " 797776.0,\n",
              " 797996.0,\n",
              " 798270.0,\n",
              " 798345.0,\n",
              " 798351.0,\n",
              " 798730.0,\n",
              " 798780.0,\n",
              " 798783.0,\n",
              " 798790.0,\n",
              " 798949.0,\n",
              " 799002.0,\n",
              " 799310.0,\n",
              " 799334.0,\n",
              " 799336.0,\n",
              " 799478.0,\n",
              " 800480.0,\n",
              " 800637.0,\n",
              " 800782.0,\n",
              " 800951.0,\n",
              " 800992.0,\n",
              " 801108.0,\n",
              " 801351.0,\n",
              " 802009.0,\n",
              " 802069.0,\n",
              " 802347.0,\n",
              " 802380.0,\n",
              " 802861.0,\n",
              " 803163.0,\n",
              " 803202.0,\n",
              " 803208.0,\n",
              " 803304.0,\n",
              " 803500.0,\n",
              " 803713.0,\n",
              " 803714.0,\n",
              " 803948.0,\n",
              " 804042.0,\n",
              " 804080.0,\n",
              " 804085.0,\n",
              " 804208.0,\n",
              " 804876.0,\n",
              " 805056.0,\n",
              " 805946.0,\n",
              " 806000.0,\n",
              " 806656.0,\n",
              " 807709.0,\n",
              " 808406.0,\n",
              " 808644.0,\n",
              " 813142.0,\n",
              " 817186.0,\n",
              " 874629.0,\n",
              " 875551.0,\n",
              " 876182.0,\n",
              " 877754.0,\n",
              " 877786.0,\n",
              " 878889.0,\n",
              " 879312.0,\n",
              " 879362.0,\n",
              " 879456.0,\n",
              " 879716.0,\n",
              " 880550.0,\n",
              " 880581.0,\n",
              " 880920.0,\n",
              " 881351.0,\n",
              " 881386.0,\n",
              " 881430.0,\n",
              " 881780.0,\n",
              " 882158.0,\n",
              " 882626.0,\n",
              " 882668.0,\n",
              " 882772.0,\n",
              " 883021.0,\n",
              " 883212.0,\n",
              " 883640.0,\n",
              " 883677.0,\n",
              " 883873.0,\n",
              " 884025.0,\n",
              " 884095.0,\n",
              " 884105.0,\n",
              " 884995.0,\n",
              " 885461.0,\n",
              " 886104.0,\n",
              " 886473.0,\n",
              " 886560.0,\n",
              " 886727.0,\n",
              " 886810.0,\n",
              " 886835.0,\n",
              " 886862.0,\n",
              " 886903.0,\n",
              " 887479.0,\n",
              " 887552.0,\n",
              " 887565.0,\n",
              " 887970.0,\n",
              " 888256.0,\n",
              " 888354.0,\n",
              " 888610.0,\n",
              " 888989.0,\n",
              " 888998.0,\n",
              " 889347.0,\n",
              " 889356.0,\n",
              " 889650.0,\n",
              " 889916.0,\n",
              " 890261.0,\n",
              " 890375.0,\n",
              " 890480.0,\n",
              " 891067.0,\n",
              " 891138.0,\n",
              " 891150.0,\n",
              " 891528.0,\n",
              " 892210.0,\n",
              " 892942.0,\n",
              " 892958.0,\n",
              " 893724.0,\n",
              " 893768.0,\n",
              " 893899.0,\n",
              " 895744.0,\n",
              " 896930.0,\n",
              " 897119.0,\n",
              " 898160.0,\n",
              " 898868.0,\n",
              " 958267.0,\n",
              " 959311.0,\n",
              " 960505.0,\n",
              " 960859.0,\n",
              " 961265.0,\n",
              " 962611.0,\n",
              " 964120.0,\n",
              " 964321.0,\n",
              " 964328.0,\n",
              " 964430.0,\n",
              " 964733.0,\n",
              " 965744.0,\n",
              " 965792.0,\n",
              " 965908.0,\n",
              " 966358.0,\n",
              " 966661.0,\n",
              " 967414.0,\n",
              " 967718.0,\n",
              " 967778.0,\n",
              " 968524.0,\n",
              " 968939.0,\n",
              " 969197.0,\n",
              " 969454.0,\n",
              " 969687.0,\n",
              " 970015.0,\n",
              " 970198.0,\n",
              " 971093.0,\n",
              " 971234.0,\n",
              " 971282.0,\n",
              " 971324.0,\n",
              " 971443.0,\n",
              " 971547.0,\n",
              " 971867.0,\n",
              " 972037.0,\n",
              " 972046.0,\n",
              " 972235.0,\n",
              " 972797.0,\n",
              " 972884.0,\n",
              " 973227.0,\n",
              " 973253.0,\n",
              " 973377.0,\n",
              " 973421.0,\n",
              " 973799.0,\n",
              " 974776.0,\n",
              " 974843.0,\n",
              " 975115.0,\n",
              " 975247.0,\n",
              " 975620.0,\n",
              " 975621.0,\n",
              " 975766.0,\n",
              " 975987.0,\n",
              " 976520.0,\n",
              " 976607.0,\n",
              " 976728.0,\n",
              " 976815.0,\n",
              " 977310.0,\n",
              " 977542.0,\n",
              " 977678.0,\n",
              " 978269.0,\n",
              " 978404.0,\n",
              " 978406.0,\n",
              " 979148.0,\n",
              " 979332.0,\n",
              " 979401.0,\n",
              " 980320.0,\n",
              " 981277.0,\n",
              " 982164.0,\n",
              " 1047548.0,\n",
              " 1047922.0,\n",
              " 1048332.0,\n",
              " 1049225.0,\n",
              " 1049370.0,\n",
              " 1049487.0,\n",
              " 1049690.0,\n",
              " 1050592.0,\n",
              " 1051219.0,\n",
              " 1051319.0,\n",
              " 1051486.0,\n",
              " 1051879.0,\n",
              " 1052006.0,\n",
              " 1052387.0,\n",
              " 1052738.0,\n",
              " 1053312.0,\n",
              " 1053707.0,\n",
              " 1053734.0,\n",
              " 1054324.0,\n",
              " 1054498.0,\n",
              " 1054726.0,\n",
              " 1054732.0,\n",
              " 1054852.0,\n",
              " 1055965.0,\n",
              " 1056012.0,\n",
              " 1056676.0,\n",
              " 1056770.0,\n",
              " 1056796.0,\n",
              " 1057034.0,\n",
              " 1057151.0,\n",
              " 1057596.0,\n",
              " 1057748.0,\n",
              " 1057756.0,\n",
              " 1057923.0,\n",
              " 1058147.0,\n",
              " 1058405.0,\n",
              " 1058477.0,\n",
              " 1058491.0,\n",
              " 1058522.0,\n",
              " 1058600.0,\n",
              " 1058734.0,\n",
              " 1058958.0,\n",
              " 1059345.0,\n",
              " 1059518.0,\n",
              " 1059565.0,\n",
              " 1059755.0,\n",
              " 1060202.0,\n",
              " 1060236.0,\n",
              " 1060381.0,\n",
              " 1060951.0,\n",
              " 1060983.0,\n",
              " 1061314.0,\n",
              " 1061710.0,\n",
              " 1061844.0,\n",
              " 1061956.0,\n",
              " 1061984.0,\n",
              " 1062035.0,\n",
              " 1062177.0,\n",
              " 1062462.0,\n",
              " 1062468.0,\n",
              " 1062767.0,\n",
              " 1062833.0,\n",
              " 1062929.0,\n",
              " 1063254.0,\n",
              " 1063816.0,\n",
              " 1063963.0,\n",
              " 1064670.0,\n",
              " 1064670.0,\n",
              " 1064954.0,\n",
              " 1065140.0,\n",
              " 1065328.0,\n",
              " 1066367.0,\n",
              " 1066737.0,\n",
              " 1067464.0,\n",
              " 1069891.0,\n",
              " 1069938.0,\n",
              " 1071169.0,\n",
              " 1073628.0,\n",
              " 1115358.0,\n",
              " 1123890.0,\n",
              " 1127681.0,\n",
              " 1128734.0,\n",
              " 1133957.0,\n",
              " 1135190.0,\n",
              " 1135540.0,\n",
              " 1135602.0,\n",
              " 1136940.0,\n",
              " 1137543.0,\n",
              " 1137822.0,\n",
              " 1137832.0,\n",
              " 1137845.0,\n",
              " 1137929.0,\n",
              " 1137991.0,\n",
              " 1138007.0,\n",
              " 1138555.0,\n",
              " 1138686.0,\n",
              " 1139120.0,\n",
              " 1139309.0,\n",
              " 1139492.0,\n",
              " 1139603.0,\n",
              " 1139612.0,\n",
              " 1139666.0,\n",
              " 1139889.0,\n",
              " 1139967.0,\n",
              " 1140846.0,\n",
              " 1140856.0,\n",
              " 1140989.0,\n",
              " 1141340.0,\n",
              " 1141646.0,\n",
              " 1141727.0,\n",
              " 1141844.0,\n",
              " 1142167.0,\n",
              " 1142214.0,\n",
              " 1142577.0,\n",
              " 1142607.0,\n",
              " 1142661.0,\n",
              " 1142820.0,\n",
              " 1142933.0,\n",
              " 1143019.0,\n",
              " 1143132.0,\n",
              " 1143412.0,\n",
              " 1143520.0,\n",
              " 1143713.0,\n",
              " 1143824.0,\n",
              " 1144032.0,\n",
              " 1144528.0,\n",
              " 1144915.0,\n",
              " 1145110.0,\n",
              " 1145151.0,\n",
              " 1145201.0,\n",
              " 1145810.0,\n",
              " 1146254.0,\n",
              " 1146303.0,\n",
              " 1146415.0,\n",
              " 1146616.0,\n",
              " 1146669.0,\n",
              " 1146711.0,\n",
              " 1146911.0,\n",
              " 1147647.0,\n",
              " 1147728.0,\n",
              " 1147790.0,\n",
              " 1147819.0,\n",
              " 1148010.0,\n",
              " 1148263.0,\n",
              " 1148426.0,\n",
              " 1148495.0,\n",
              " 1148648.0,\n",
              " 1148665.0,\n",
              " 1149091.0,\n",
              " 1149110.0,\n",
              " 1149638.0,\n",
              " 1149899.0,\n",
              " 1150801.0,\n",
              " 1150821.0,\n",
              " 1151090.0,\n",
              " 1151198.0,\n",
              " 1151311.0,\n",
              " 1151565.0,\n",
              " 1151782.0,\n",
              " 1151922.0,\n",
              " 1152054.0,\n",
              " 1152234.0,\n",
              " 1152268.0,\n",
              " 1152300.0,\n",
              " 1152361.0,\n",
              " 1152467.0,\n",
              " 1152656.0,\n",
              " 1152656.0,\n",
              " 1153009.0,\n",
              " 1153199.0,\n",
              " 1153265.0,\n",
              " 1154008.0,\n",
              " 1154196.0,\n",
              " 1155236.0,\n",
              " 1155493.0,\n",
              " 1155685.0,\n",
              " 1156626.0,\n",
              " 1158814.0,\n",
              " 1158964.0,\n",
              " 1160368.0,\n",
              " 1208616.0,\n",
              " 1214301.0,\n",
              " 1215470.0,\n",
              " 1220016.0,\n",
              " 1220064.0,\n",
              " 1220750.0,\n",
              " 1220884.0,\n",
              " 1221042.0,\n",
              " 1221783.0,\n",
              " 1222194.0,\n",
              " 1223194.0,\n",
              " 1223218.0,\n",
              " 1223537.0,\n",
              " 1223648.0,\n",
              " 1223957.0,\n",
              " 1224173.0,\n",
              " 1224175.0,\n",
              " 1224318.0,\n",
              " 1224589.0,\n",
              " 1224709.0,\n",
              " 1225016.0,\n",
              " 1225136.0,\n",
              " 1225644.0,\n",
              " 1225938.0,\n",
              " 1226001.0,\n",
              " 1226090.0,\n",
              " 1226130.0,\n",
              " 1226226.0,\n",
              " 1226329.0,\n",
              " 1226578.0,\n",
              " 1226753.0,\n",
              " 1226769.0,\n",
              " 1227442.0,\n",
              " 1227558.0,\n",
              " 1227910.0,\n",
              " 1227954.0,\n",
              " 1228053.0,\n",
              " 1228188.0,\n",
              " 1228317.0,\n",
              " 1228644.0,\n",
              " 1228684.0,\n",
              " 1228714.0,\n",
              " 1228791.0,\n",
              " 1228794.0,\n",
              " 1228812.0,\n",
              " 1228919.0,\n",
              " 1229119.0,\n",
              " 1229226.0,\n",
              " 1229511.0,\n",
              " 1229544.0,\n",
              " 1229552.0,\n",
              " 1229610.0,\n",
              " 1229647.0,\n",
              " 1229719.0,\n",
              " 1229741.0,\n",
              " 1230244.0,\n",
              " 1230267.0,\n",
              " 1230387.0,\n",
              " 1230459.0,\n",
              " 1230510.0,\n",
              " 1230531.0,\n",
              " 1230623.0,\n",
              " 1230994.0,\n",
              " 1231076.0,\n",
              " 1231243.0,\n",
              " 1231695.0,\n",
              " 1232321.0,\n",
              " 1232346.0,\n",
              " 1232836.0,\n",
              " 1232846.0,\n",
              " 1232848.0,\n",
              " 1232854.0,\n",
              " 1233369.0,\n",
              " 1233390.0,\n",
              " 1233414.0,\n",
              " 1233692.0,\n",
              " 1233730.0,\n",
              " 1233760.0,\n",
              " 1233824.0,\n",
              " 1234261.0,\n",
              " 1234365.0,\n",
              " 1234491.0,\n",
              " 1234786.0,\n",
              " 1234854.0,\n",
              " 1235074.0,\n",
              " 1235217.0,\n",
              " 1235620.0,\n",
              " 1236132.0,\n",
              " 1236363.0,\n",
              " 1236641.0,\n",
              " 1236699.0,\n",
              " 1237010.0,\n",
              " 1237103.0,\n",
              " 1237261.0,\n",
              " 1237928.0,\n",
              " 1238242.0,\n",
              " 1238604.0,\n",
              " 1238754.0,\n",
              " 1238960.0,\n",
              " 1239430.0,\n",
              " 1239485.0,\n",
              " 1239696.0,\n",
              " 1240360.0,\n",
              " 1241361.0,\n",
              " 1241508.0,\n",
              " 1294005.0,\n",
              " 1306723.0,\n",
              " 1309216.0,\n",
              " 1310697.0,\n",
              " 1310763.0,\n",
              " 1310788.0,\n",
              " 1310827.0,\n",
              " 1311582.0,\n",
              " 1311669.0,\n",
              " 1312492.0,\n",
              " 1312783.0,\n",
              " 1312789.0,\n",
              " 1313028.0,\n",
              " 1313172.0,\n",
              " 1313527.0,\n",
              " 1313815.0,\n",
              " 1314437.0,\n",
              " 1314786.0,\n",
              " 1315667.0,\n",
              " 1315725.0,\n",
              " 1315867.0,\n",
              " 1317006.0,\n",
              " 1317010.0,\n",
              " 1317343.0,\n",
              " 1317515.0,\n",
              " 1317802.0,\n",
              " 1318486.0,\n",
              " 1318988.0,\n",
              " 1319375.0,\n",
              " 1319503.0,\n",
              " 1319829.0,\n",
              " 1320114.0,\n",
              " 1321029.0,\n",
              " 1321279.0,\n",
              " 1321595.0,\n",
              " 1321693.0,\n",
              " 1322247.0,\n",
              " 1322582.0,\n",
              " 1325878.0,\n",
              " 1326932.0,\n",
              " 1327013.0,\n",
              " 1327636.0,\n",
              " 1328038.0,\n",
              " 1390724.0,\n",
              " 1394169.0,\n",
              " 1396384.0,\n",
              " 1399386.0,\n",
              " 1400698.0,\n",
              " 1401261.0,\n",
              " 1405201.0,\n",
              " 1405390.0,\n",
              " 1406087.0,\n",
              " 1409251.0,\n",
              " 1412684.0,\n",
              " 1413386.0,\n",
              " 1418868.0,\n",
              " 1469232.0,\n",
              " 1474004.0,\n",
              " 1482422.0,\n",
              " 1485520.0,\n",
              " 1487438.0,\n",
              " 1487463.0,\n",
              " 1490553.0,\n",
              " 1490812.0,\n",
              " 1491189.0,\n",
              " 1491895.0,\n",
              " 1491980.0,\n",
              " 1492027.0,\n",
              " 1492154.0,\n",
              " 1493642.0,\n",
              " 1495932.0,\n",
              " 1496878.0,\n",
              " 1498384.0,\n",
              " 1569482.0,\n",
              " 1572974.0,\n",
              " 1573194.0,\n",
              " 1576818.0,\n",
              " 1578436.0,\n",
              " 1579308.0,\n",
              " 1580283.0,\n",
              " 1581460.0,\n",
              " 1581537.0,\n",
              " 1588098.0,\n",
              " 1589421.0,\n",
              " 1656560.0,\n",
              " 1656574.0,\n",
              " 1657179.0,\n",
              " 1658984.0,\n",
              " 1659282.0,\n",
              " 1660733.0,\n",
              " 1661332.0,\n",
              " 1661684.0,\n",
              " 1672641.0,\n",
              " 1742647.0,\n",
              " 1752140.0,\n",
              " 1753289.0,\n",
              " 1758190.0,\n",
              " 1829791.0,\n",
              " 1830199.0,\n",
              " 1836892.0,\n",
              " 1847393.0,\n",
              " 2016954.0,\n",
              " 2191392.0,\n",
              " 2193515.0]"
            ]
          },
          "metadata": {},
          "execution_count": 15
        }
      ]
    },
    {
      "cell_type": "code",
      "source": [
        "import numpy as np\n",
        "\n",
        "duracion_promedio = round(np.mean(duraciones_casos))\n",
        "\n",
        "duracion_mediana = round(np.median(duraciones_casos))\n",
        "\n",
        "print('Promedio de duración de los casos:', duracion_promedio)\n",
        "print('Mediana de duración de los casos:', duracion_mediana)"
      ],
      "metadata": {
        "colab": {
          "base_uri": "https://localhost:8080/"
        },
        "id": "B80gd-pDlEv1",
        "outputId": "15dfd2e6-541a-40d4-bcdf-e196a628cb3c"
      },
      "execution_count": null,
      "outputs": [
        {
          "output_type": "stream",
          "name": "stdout",
          "text": [
            "Promedio de duración de los casos: 888810\n",
            "Mediana de duración de los casos: 891144\n"
          ]
        }
      ]
    },
    {
      "cell_type": "markdown",
      "source": [
        "También es posible generar un gráfico que permita observar la distribución de casos según su duración. Para ello pm4py cuenta con la función:\n",
        "\n",
        "\n",
        "```\n",
        "pm4py.view_case_duration_graph(log_de_eventos)\n",
        "```\n",
        "\n",
        "La que nos entrega esta distribución."
      ],
      "metadata": {
        "id": "zXltOSRQql-E"
      }
    },
    {
      "cell_type": "code",
      "source": [
        "pm4py.view_case_duration_graph(log_csv)"
      ],
      "metadata": {
        "colab": {
          "base_uri": "https://localhost:8080/",
          "height": 472
        },
        "id": "zDTH4m92mkp6",
        "outputId": "2df0bff3-c66a-4603-f713-f0b942a26690"
      },
      "execution_count": null,
      "outputs": [
        {
          "output_type": "display_data",
          "data": {
            "image/png": "[encoded data removed]",
            "text/plain": [
              "<IPython.core.display.Image object>"
            ]
          },
          "metadata": {}
        }
      ]
    },
    {
      "cell_type": "markdown",
      "source": [
        "### ¿Cuál es la distribución de eventos en el tiempo?"
      ],
      "metadata": {
        "id": "9NMYH02Rr7gJ"
      }
    },
    {
      "cell_type": "markdown",
      "source": [
        "También es posible generar un gráfico que permita observar la distribución de eventos en el tiempo. Para ello pm4py cuenta con la función:\n",
        "\n",
        "```\n",
        "pm4py.view_events_per_time_graph(log_de_eventos)\n",
        "```\n",
        "\n",
        "La que nos entrega esta distribución."
      ],
      "metadata": {
        "id": "eABob2EOsEQF"
      }
    },
    {
      "cell_type": "code",
      "source": [
        "pm4py.view_events_per_time_graph(log_csv)"
      ],
      "metadata": {
        "colab": {
          "base_uri": "https://localhost:8080/",
          "height": 538
        },
        "id": "mBpwGk5sm_Sh",
        "outputId": "50de2a65-d680-4b08-b427-984ce39f80a1"
      },
      "execution_count": null,
      "outputs": [
        {
          "output_type": "display_data",
          "data": {
            "image/png": "[encoded data removed]",
            "text/plain": [
              "<IPython.core.display.Image object>"
            ]
          },
          "metadata": {}
        }
      ]
    },
    {
      "cell_type": "markdown",
      "source": [
        "# 4. Filtrado"
      ],
      "metadata": {
        "id": "ZUlpUC9snfZs"
      }
    },
    {
      "cell_type": "markdown",
      "source": [
        "Del ejemplo, es posible ver que cuando obtuvimos las actividades de fin, pese a que el proceso siempre debería terminar en \"Entregar vehiculo\", en varios casos existen otras actividades de fin.\n",
        "\n",
        "En este caso, podemos asumir que estas actividades representan casos incompletos y podemos filtrarlos para evitar que generen problemas en análisis futuros.\n"
      ],
      "metadata": {
        "id": "SY9Mvr4Cnvlp"
      }
    },
    {
      "cell_type": "code",
      "source": [
        "# Recordemos las actividades\n",
        "actividades_de_fin = pm4py.stats.get_end_activities(log_csv)\n",
        "actividades_de_fin"
      ],
      "metadata": {
        "colab": {
          "base_uri": "https://localhost:8080/"
        },
        "id": "QlRDmXgpn2LY",
        "outputId": "5911af9f-5d3f-4086-c495-dcb26f123ec9"
      },
      "execution_count": null,
      "outputs": [
        {
          "output_type": "execute_result",
          "data": {
            "text/plain": [
              "{'Entregar vehiculo': 783,\n",
              " 'Probar vehiculo': 23,\n",
              " 'Recibir repuestos': 72,\n",
              " 'Instalar repuestos': 5,\n",
              " 'Restaurar danos': 6,\n",
              " 'Comprar repuestos': 19,\n",
              " 'Coordinar retiro': 7,\n",
              " 'Recibir respuesta': 10,\n",
              " 'Enviar presupuesto a cliente': 13}"
            ]
          },
          "metadata": {},
          "execution_count": 19
        }
      ]
    },
    {
      "cell_type": "markdown",
      "source": [
        "Usando la función:\n",
        "\n",
        "\n",
        "```python\n",
        "pm4py.filtering.filter_end_activities(log_de_eventos,\n",
        "                                      actividades_de_fin_permitidas)\n",
        "```\n",
        "\n",
        "Dejaremos solo los casos que terminen con las actividades señaladas en la lista.\n"
      ],
      "metadata": {
        "id": "J7QDT9wTrFIJ"
      }
    },
    {
      "cell_type": "code",
      "source": [
        "log_filtrado = pm4py.filtering.filter_end_activities(log_csv, ['Entregar vehiculo'])"
      ],
      "metadata": {
        "id": "_idTOXrzrE3t"
      },
      "execution_count": null,
      "outputs": []
    },
    {
      "cell_type": "markdown",
      "source": [
        "Ahora podemos ver que solo tenemos casos que terminan con \"Entregar vehículo\" en el *event log*:"
      ],
      "metadata": {
        "id": "hDK9dvMVrnaE"
      }
    },
    {
      "cell_type": "code",
      "source": [
        "actividades_de_fin = pm4py.stats.get_end_activities(log_filtrado)\n",
        "actividades_de_fin"
      ],
      "metadata": {
        "colab": {
          "base_uri": "https://localhost:8080/"
        },
        "id": "Z8lma8Wjri7V",
        "outputId": "9295a687-0a1a-423f-f549-7bbf5a99a037"
      },
      "execution_count": null,
      "outputs": [
        {
          "output_type": "execute_result",
          "data": {
            "text/plain": [
              "{'Entregar vehiculo': 783}"
            ]
          },
          "metadata": {},
          "execution_count": 21
        }
      ]
    },
    {
      "cell_type": "markdown",
      "source": [
        "Esto reduce el número de casos de 938 a 783 y también el número de variantes, como podemos ver a continuación:"
      ],
      "metadata": {
        "id": "dBUJyb1YsAd2"
      }
    },
    {
      "cell_type": "code",
      "source": [
        "len(pm4py.stats.get_variants(log_filtrado))"
      ],
      "metadata": {
        "colab": {
          "base_uri": "https://localhost:8080/"
        },
        "id": "WRf8M9SYsEXV",
        "outputId": "2f1fb05c-06f0-47f1-91f8-349ca1cb10d0"
      },
      "execution_count": null,
      "outputs": [
        {
          "output_type": "execute_result",
          "data": {
            "text/plain": [
              "34"
            ]
          },
          "metadata": {},
          "execution_count": 22
        }
      ]
    },
    {
      "cell_type": "markdown",
      "source": [
        "Existen otros filtros útiles, los cuáles si bien están fuera del alcance de este tutorial, valen la pena mencionar.\n",
        "\n",
        "Por ejemplo, si queremos filtrar por actividad de inicio, podemos usar la función `filter_start_activities(log, actividades)` con la misma sintaxis que la función anterior.\n",
        "\n",
        "```python\n",
        "pm4py.filtering.filter_start_activities(log_de_eventos,\n",
        "                                      actividades_de_fin_permitidas)\n",
        "```\n",
        "\n",
        "Del mismo modo, se puede filtrar por otros elementos, para ello se usa principalmente la función `filter_event_attribute_values`.\n",
        "\n",
        "\n",
        "```\n",
        "pm4py.filtering.filter_event_attribute_values(log_de_eventos,\n",
        "                                              attribute_key (columna),\n",
        "                                              values (valores),\n",
        "                                              retain (quitar los valores mencionados o quitar todos los demás),\n",
        "                                              level (event o case)\n",
        "                                              )\n",
        "```\n",
        "\n",
        "\n",
        "\n",
        "Esta nos permite filtrar casos por cualquier columna en la tabla. Esta función recibe 5 parámetros:\n",
        "\n",
        "* El *event log* a filtrar (DataFrame).\n",
        "* El nombre de la columna sobre la cual quiero realizar el filtrado (str).\n",
        "* Los valores que quiero filtrar (list).\n",
        "* Un valor retain, el cuál indica si el filtro es para remover los valores de values (Si es True) o si quiero sacar todos los valores que no son iguales a los de la lista values (Si fuese False).\n",
        "* Un string para indicar si el filtro se aplica a nivel de eventos (actividades) o sobre el caso completo.\n",
        "\n",
        "Para ilustrarlo quitaremos, sobre el log ya filtrado, todos los casos en los que no participó el ejecutor de nombre \"Alejandro\".\n"
      ],
      "metadata": {
        "id": "NvRZabPJrsf3"
      }
    },
    {
      "cell_type": "code",
      "source": [
        "casos_sin_alejandro = pm4py.filtering.filter_event_attribute_values(log_filtrado,\n",
        "                                              attribute_key = 'Ejecutor',\n",
        "                                              values = ['Alejandro'],\n",
        "                                              retain = False,\n",
        "                                              level = 'case'\n",
        "                                              )"
      ],
      "metadata": {
        "id": "ez5wcoxMvFan"
      },
      "execution_count": null,
      "outputs": []
    },
    {
      "cell_type": "markdown",
      "source": [
        "En este caso usamos la columna \"Ejecutor\", para filtrar al ejecutor \"Alejandro\". El retain fue marcado como False para quedarnos solo con los casos sin él y el filtro fue aplicado a nivel de caso, para quedarnos con todos los casos en los que Alejandro no aparece.\n",
        "\n",
        "Podemos ver que el log nuevo no tiene a Alejandro entre los ejecutores:"
      ],
      "metadata": {
        "id": "i1WSIjR3wbPV"
      }
    },
    {
      "cell_type": "code",
      "source": [
        "set(casos_sin_alejandro['Ejecutor'])"
      ],
      "metadata": {
        "colab": {
          "base_uri": "https://localhost:8080/"
        },
        "id": "qjxKVZBSwMKr",
        "outputId": "9d2737c0-282c-4a46-fd2d-64736ba6f388"
      },
      "execution_count": null,
      "outputs": [
        {
          "output_type": "execute_result",
          "data": {
            "text/plain": [
              "{'Arturo',\n",
              " 'Bernardo',\n",
              " 'Daniela',\n",
              " 'Gabriela',\n",
              " 'Isabel',\n",
              " 'Jose',\n",
              " 'Mario',\n",
              " 'Norma',\n",
              " 'Pablo',\n",
              " 'Pedro',\n",
              " 'Roberto',\n",
              " 'Victor',\n",
              " 'Violeta'}"
            ]
          },
          "metadata": {},
          "execution_count": 24
        }
      ]
    },
    {
      "cell_type": "markdown",
      "source": [
        "Y que quedan 700 casos."
      ],
      "metadata": {
        "id": "cALN3ix_w1XK"
      }
    },
    {
      "cell_type": "code",
      "source": [
        "len(set(casos_sin_alejandro['case:concept:name']))"
      ],
      "metadata": {
        "colab": {
          "base_uri": "https://localhost:8080/"
        },
        "id": "zI3-JfvevquF",
        "outputId": "91364e7f-3f50-4cb7-95f8-3dc3362c69d5"
      },
      "execution_count": null,
      "outputs": [
        {
          "output_type": "execute_result",
          "data": {
            "text/plain": [
              "700"
            ]
          },
          "metadata": {},
          "execution_count": 25
        }
      ]
    },
    {
      "cell_type": "markdown",
      "source": [
        "Finalmente, sin en cambio hubiésemos querido quitar solo las actividades en las que participó Alejandro, pero no los casos completos, bastaría con modificar el atributo `level` de `'case'` a `'event'`.\n"
      ],
      "metadata": {
        "id": "DsYJFOnbw4E8"
      }
    },
    {
      "cell_type": "code",
      "source": [
        "eventos_sin_alejandro = pm4py.filtering.filter_event_attribute_values(log_filtrado,\n",
        "                                              attribute_key = 'Ejecutor',\n",
        "                                              values = ['Alejandro'],\n",
        "                                              retain = False,\n",
        "                                              level = 'event'\n",
        "                                              )"
      ],
      "metadata": {
        "id": "SarKFVf5xAJ5"
      },
      "execution_count": null,
      "outputs": []
    },
    {
      "cell_type": "markdown",
      "source": [
        "Como podemos ver, al aplicar este filtro, mantenemos la totalidad de los casos."
      ],
      "metadata": {
        "id": "Og0IaQ4rxNGW"
      }
    },
    {
      "cell_type": "code",
      "source": [
        "len(set(eventos_sin_alejandro['case:concept:name']))"
      ],
      "metadata": {
        "colab": {
          "base_uri": "https://localhost:8080/"
        },
        "id": "XtnqyxmjxMqy",
        "outputId": "1857c681-a5af-49b2-bdea-f991bada6c22"
      },
      "execution_count": null,
      "outputs": [
        {
          "output_type": "execute_result",
          "data": {
            "text/plain": [
              "783"
            ]
          },
          "metadata": {},
          "execution_count": 27
        }
      ]
    },
    {
      "cell_type": "markdown",
      "source": [
        "Pero Alejandro sigue sin ser parte de la lista de ejecutores:"
      ],
      "metadata": {
        "id": "kU8HJZ3pxarT"
      }
    },
    {
      "cell_type": "code",
      "source": [
        "set(casos_sin_alejandro['Ejecutor'])"
      ],
      "metadata": {
        "colab": {
          "base_uri": "https://localhost:8080/"
        },
        "id": "pBoaN_B4xdAf",
        "outputId": "cf5420b5-c44b-4c58-bfcb-02ca96921dfc"
      },
      "execution_count": null,
      "outputs": [
        {
          "output_type": "execute_result",
          "data": {
            "text/plain": [
              "{'Arturo',\n",
              " 'Bernardo',\n",
              " 'Daniela',\n",
              " 'Gabriela',\n",
              " 'Isabel',\n",
              " 'Jose',\n",
              " 'Mario',\n",
              " 'Norma',\n",
              " 'Pablo',\n",
              " 'Pedro',\n",
              " 'Roberto',\n",
              " 'Victor',\n",
              " 'Violeta'}"
            ]
          },
          "metadata": {},
          "execution_count": 28
        }
      ]
    },
    {
      "cell_type": "markdown",
      "source": [
        "Existen otros filtros interesantes en pm4py, como por ejemplo filtros por duración, por período de tiempo, o por variante.\n",
        "\n",
        "Si deseas conocer más, visita la documentación oficial de pm4py: https://pm4py.fit.fraunhofer.de/static/assets/api/2.7.8/api.html#filtering-pm4py-filtering\n"
      ],
      "metadata": {
        "id": "1QJU64bkxhT0"
      }
    }
  ]
}